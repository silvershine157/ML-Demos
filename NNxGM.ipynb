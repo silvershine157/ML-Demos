{
  "nbformat": 4,
  "nbformat_minor": 0,
  "metadata": {
    "colab": {
      "name": "NNxGM.ipynb",
      "version": "0.3.2",
      "provenance": [],
      "collapsed_sections": [],
      "include_colab_link": true
    },
    "kernelspec": {
      "name": "python3",
      "display_name": "Python 3"
    }
  },
  "cells": [
    {
      "cell_type": "markdown",
      "metadata": {
        "id": "view-in-github",
        "colab_type": "text"
      },
      "source": [
        "<a href=\"https://colab.research.google.com/github/silvershine157/ML_Practice/blob/master/NNxGM.ipynb\" target=\"_parent\"><img src=\"https://colab.research.google.com/assets/colab-badge.svg\" alt=\"Open In Colab\"/></a>"
      ]
    },
    {
      "cell_type": "code",
      "metadata": {
        "id": "4ToT5yqtNZxb",
        "colab_type": "code",
        "colab": {}
      },
      "source": [
        "import numpy as np\n",
        "import torch\n",
        "import matplotlib.pyplot as plt"
      ],
      "execution_count": 0,
      "outputs": []
    },
    {
      "cell_type": "markdown",
      "metadata": {
        "id": "3W_RkYJUeVut",
        "colab_type": "text"
      },
      "source": [
        "### Spiral cluster data"
      ]
    },
    {
      "cell_type": "code",
      "metadata": {
        "id": "4wWeWLS3eXdB",
        "colab_type": "code",
        "colab": {
          "base_uri": "https://localhost:8080/",
          "height": 269
        },
        "outputId": "f53b6c8e-27ad-4d4d-ea7e-b66f13718c03"
      },
      "source": [
        "def rotation_matrix_2d(theta):\n",
        "  R = np.array([\n",
        "      [np.cos(theta), -np.sin(theta)],\n",
        "      [np.sin(theta), np.cos(theta)]\n",
        "  ])\n",
        "  return R\n",
        "\n",
        "def generate_spiral_cluster_data(N):\n",
        "  data = np.zeros((N, 2))\n",
        "  for n in range(N):\n",
        "    z = np.random.randint(0, 5) # 0~4\n",
        "    g = np.random.multivariate_normal([1.0, 0.0], [[0.08, 0.0], [0.0, 0.005]])\n",
        "    theta = z*np.pi*2/5 + 0.7*np.linalg.norm(g)\n",
        "    y = np.matmul(rotation_matrix_2d(theta), g)\n",
        "    data[n, :] = y\n",
        "  return data\n",
        "\n",
        "N = 500 # number of data points\n",
        "data = generate_spiral_cluster_data(N)\n",
        "plt.scatter(data[:, 0], data[:, 1])\n",
        "plt.show()"
      ],
      "execution_count": 51,
      "outputs": [
        {
          "output_type": "display_data",
          "data": {
            "image/png": "[encoded data removed]",
            "text/plain": [
              "<Figure size 432x288 with 1 Axes>"
            ]
          },
          "metadata": {
            "tags": []
          }
        }
      ]
    }
  ]
}