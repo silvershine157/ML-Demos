{
  "nbformat": 4,
  "nbformat_minor": 0,
  "metadata": {
    "colab": {
      "name": "SteinVGD.ipynb",
      "version": "0.3.2",
      "provenance": [],
      "collapsed_sections": [],
      "include_colab_link": true
    },
    "kernelspec": {
      "name": "python3",
      "display_name": "Python 3"
    }
  },
  "cells": [
    {
      "cell_type": "markdown",
      "metadata": {
        "id": "view-in-github",
        "colab_type": "text"
      },
      "source": [
        "<a href=\"https://colab.research.google.com/github/silvershine157/ML_Practice/blob/master/SteinVGD.ipynb\" target=\"_parent\"><img src=\"https://colab.research.google.com/assets/colab-badge.svg\" alt=\"Open In Colab\"/></a>"
      ]
    },
    {
      "cell_type": "markdown",
      "metadata": {
        "id": "V3B13IJb5mq8",
        "colab_type": "text"
      },
      "source": [
        "# Stein Variational Gradient Descent\n"
      ]
    },
    {
      "cell_type": "code",
      "metadata": {
        "id": "rCV_OWnl5VCI",
        "colab_type": "code",
        "colab": {}
      },
      "source": [
        "import torch\n",
        "import math\n",
        "import matplotlib.pyplot as plt\n",
        "import seaborn as sns\n",
        "import torch.distributions as dist\n",
        "import torch.nn as nn"
      ],
      "execution_count": 0,
      "outputs": []
    },
    {
      "cell_type": "markdown",
      "metadata": {
        "id": "0HjdeiB4Iefn",
        "colab_type": "text"
      },
      "source": [
        "## SGVD Algorithm"
      ]
    },
    {
      "cell_type": "markdown",
      "metadata": {
        "id": "uySCyGOLMRcJ",
        "colab_type": "text"
      },
      "source": [
        "### What does it do?\n",
        "\n",
        "Let $p$ be a smooth distribution on $\\mathcal{X}$.\n",
        "\n",
        "if we can evaluate $\\nabla_x log\\,p(x) |_{x=x'}$ for any given $x' \\in \\mathcal{X}$,\n",
        "\n",
        "then SVGD algorithm can generate approximate samples from $p$ by iteratively guiding the particles."
      ]
    },
    {
      "cell_type": "code",
      "metadata": {
        "id": "l9Tdb5C5Zi37",
        "colab_type": "code",
        "colab": {}
      },
      "source": [
        "def svgd_run(grad_log_p, dim):\n",
        "  n_iter = 100\n",
        "  n_samples = 100\n",
        "  X = torch.rand(n_samples, dim)\n",
        "  for _ in range(n_iter):\n",
        "    X = svgd_update(X, grad_log_p)\n",
        "  return X # samples from p"
      ],
      "execution_count": 0,
      "outputs": []
    },
    {
      "cell_type": "markdown",
      "metadata": {
        "id": "jkcgjBE3Ri-V",
        "colab_type": "text"
      },
      "source": [
        "### Why is it useful?\n",
        "\n",
        "Suppose we want to evaluate $\\int_{\\mathcal{X}}{g(x) p(x)dx}$ where we have unnormalized $\\bar{p}(x)$ rather than $p(x) = \\frac{\\bar{p}(x)}{\\int_{\\mathcal{X}}{\\bar{p}(x)dx}}$.\n",
        "\n",
        "Analytic integration is often impossible for complex $g$, $p$ and normalization can be intractable.\n",
        "\n",
        "Instead, if we have samples $x_i$ from $p$, then we can construct a MC estimator:\n",
        "$\\int_{\\mathcal{X}}{g(x) p(x)dx} = \\mathbb{E}_{\\mathbb{x} \\sim p}[g(\\mathbb{x})] \\approx \\frac{1}{N} \\sum_{i=1}^N{g(x_i)}$\n",
        "\n"
      ]
    },
    {
      "cell_type": "code",
      "metadata": {
        "id": "7h5MLAtnyARn",
        "colab_type": "code",
        "colab": {}
      },
      "source": [
        "def estimate_integral(g, samples_from_p):  \n",
        "  # Estimate integral\n",
        "  g_values = []\n",
        "  for x in samples_from_p:\n",
        "    g_values.append(g(x)) # g forward\n",
        "  est = sum(g_values)/len(g_values)\n",
        "  return est"
      ],
      "execution_count": 0,
      "outputs": []
    },
    {
      "cell_type": "markdown",
      "metadata": {
        "id": "dVFp0CTWx-xe",
        "colab_type": "text"
      },
      "source": [
        "Drawing samples using MCMC methods are rather slow or unreliable.\n",
        "\n",
        "Meanwhile, SGVD only uses $\\nabla_x log\\,p(x)$, which is exactly same as $\\nabla_x log\\,\\bar{p}(x)$.\n",
        "\n",
        "Therefore, only forward pass of $g$ and forward/backward pass of $\\bar{p}$ is necessary and nothing else!"
      ]
    },
    {
      "cell_type": "code",
      "metadata": {
        "id": "f2phD8P_ZxMH",
        "colab_type": "code",
        "colab": {}
      },
      "source": [
        "# Transform forward function into gradient function\n",
        "def fwd_to_grad(f):\n",
        "  def grad_func(x):\n",
        "    x = x.requires_grad_(True)\n",
        "    r = f(x)\n",
        "    r.backward()\n",
        "    grad = x.grad\n",
        "    x = x.requires_grad_(False)\n",
        "    return grad\n",
        "  return grad_func\n",
        "\n",
        "# Sample from unnormalized log likelihood\n",
        "def sample_unnormalized(log_p_bar, dim):\n",
        "  # Gradient of log-likelihood\n",
        "  grad_log_p = fwd_to_grad(log_p_bar) # normalization doesn't matter\n",
        "  # Use SVGD to draw samples from p\n",
        "  samples_from_p = svgd_run(grad_log_p, dim)\n",
        "  return samples_from_p"
      ],
      "execution_count": 0,
      "outputs": []
    },
    {
      "cell_type": "markdown",
      "metadata": {
        "id": "qPxiS4_VZONs",
        "colab_type": "text"
      },
      "source": [
        "### How does it work?\n",
        "\n",
        "\n",
        "**Update rule**\n",
        "\n",
        "$x_i^{l+1} = x_i^l + \\epsilon_l \\hat{\\phi}^*(x_i^l)$\n",
        "\n",
        "$\\hat{\\phi}^*(x_i^l) = \\frac{1}{n}\\sum_{j=1}^n[k(x_j^l, x_i^l) \\nabla_{x_j^l} log\\,p(x_j^l) + \\nabla_{x_j^l} k(x_j^l, x_i^l)]$"
      ]
    },
    {
      "cell_type": "code",
      "metadata": {
        "id": "csXCLYf9aZS7",
        "colab_type": "code",
        "colab": {}
      },
      "source": [
        "def rbf_kernel(X):\n",
        "  n_samples = X.size(0)\n",
        "  X = X.unsqueeze(dim=1) # (i, 1, d)\n",
        "  X_T = X.transpose(0, 1) # (1, j, d)\n",
        "  D = X - X_T # (i, j, d)\n",
        "  SqD = torch.sum(D**2, dim=2) # (i, j)\n",
        "  medSqD = torch.median(SqD)\n",
        "  if n_samples <= 3:\n",
        "    h = 1.0\n",
        "  else:\n",
        "    h = medSqD / (math.log(n_samples))\n",
        "  K = torch.exp((-1/h)*SqD) # (i, j)\n",
        "  grad_K = (2/h)*torch.einsum('ijd,ij->ijd', D, K) # (i, j ,d)\n",
        "  return K, grad_K\n",
        "\n",
        "def svgd_update(X, grad_log_p, kernel=rbf_kernel):\n",
        "  # TODO: adagrad step_size\n",
        "  n_samples = X.size(0)\n",
        "  P = torch.zeros(X.size())\n",
        "  for j in range(n_samples): # TODO: must be a better way (think neural network)\n",
        "    P[j, :] = grad_log_p(X[j, :]) # (j, d)\n",
        "  K, grad_K = kernel(X) # (i, j), (i, j, d)\n",
        "  S = torch.einsum('ij,jd->ijd', K, P) + grad_K # (i, j, d)\n",
        "  phi = torch.sum(S, dim=1)/n_samples # (i, d)\n",
        "  return phi\n",
        "\n",
        "def adagrad(phi, sq_acc, lr=1.0):\n",
        "  sq_acc = sq_acc + torch.pow(phi, 2)\n",
        "  step_sizes = lr * torch.pow(sq_acc+0.001, -0.5)\n",
        "  return step_sizes, sq_acc"
      ],
      "execution_count": 0,
      "outputs": []
    },
    {
      "cell_type": "markdown",
      "metadata": {
        "id": "PwhEto-xIUN_",
        "colab_type": "text"
      },
      "source": [
        "## Experiment 1: Mixture of Gaussian"
      ]
    },
    {
      "cell_type": "code",
      "metadata": {
        "id": "qRdOAFVzKq1u",
        "colab_type": "code",
        "outputId": "34cf943c-2585-4f6e-83d1-aa17030f1a0f",
        "colab": {
          "base_uri": "https://localhost:8080/",
          "height": 1000
        }
      },
      "source": [
        "# Mixture of Gaussian as target\n",
        "g1 = dist.normal.Normal(-2, 1)\n",
        "g2 = dist.normal.Normal(2, 1)\n",
        "target_p = lambda x: (1/3)*torch.exp(g1.log_prob(x)) + (2/3)*torch.exp(g2.log_prob(x))\n",
        "grad_log_p = fwd_to_grad(lambda x: torch.log(target_p(x)))\n",
        "\n",
        "grid = torch.linspace(-15, 15)\n",
        "Y = target_p(grid)\n",
        "grid = grid.numpy()\n",
        "Y = Y.numpy()\n",
        "\n",
        "# initialize\n",
        "n_samples = 100\n",
        "dim=1\n",
        "g0 = dist.normal.Normal(-10, 1)\n",
        "X = g0.sample((n_samples, dim))\n",
        "\n",
        "sq_acc=0.0\n",
        "\n",
        "# update\n",
        "for _ in range(3):\n",
        "  sns.lineplot(grid, Y)\n",
        "  fig = sns.distplot(X.squeeze(dim=1).numpy(), hist=False)\n",
        "  plt.show()\n",
        "  for _ in range(50):\n",
        "    phi = svgd_update(X, grad_log_p)\n",
        "    step_sizes, sq_acc = adagrad(phi, sq_acc, lr=3.0)\n",
        "    X = X + torch.mul(step_sizes, phi)\n",
        "sns.lineplot(grid, Y)\n",
        "fig = sns.distplot(X.squeeze(dim=1).numpy(), hist=False)\n",
        "plt.show()"
      ],
      "execution_count": 179,
      "outputs": [
        {
          "output_type": "display_data",
          "data": {
            "image/png": "[encoded data removed]",
            "text/plain": [
              "<Figure size 432x288 with 1 Axes>"
            ]
          },
          "metadata": {
            "tags": []
          }
        },
        {
          "output_type": "display_data",
          "data": {
            "image/png": "[encoded data removed]",
            "text/plain": [
              "<Figure size 432x288 with 1 Axes>"
            ]
          },
          "metadata": {
            "tags": []
          }
        },
        {
          "output_type": "display_data",
          "data": {
            "image/png": "[encoded data removed]",
            "text/plain": [
              "<Figure size 432x288 with 1 Axes>"
            ]
          },
          "metadata": {
            "tags": []
          }
        },
        {
          "output_type": "display_data",
          "data": {
            "image/png": "[encoded data removed]",
            "text/plain": [
              "<Figure size 432x288 with 1 Axes>"
            ]
          },
          "metadata": {
            "tags": []
          }
        }
      ]
    },
    {
      "cell_type": "markdown",
      "metadata": {
        "id": "DZDoUwA-rOGX",
        "colab_type": "text"
      },
      "source": [
        "This is very numerically unstable.\n",
        "Big step size -> far from mode -> almost zero prob -> log gives NaN\n",
        "\n",
        "Why AdaGrad? <- does not guarantee minimization of KL div?\n",
        "\n",
        "learning rate matters"
      ]
    },
    {
      "cell_type": "markdown",
      "metadata": {
        "id": "_hYncIWTImSy",
        "colab_type": "text"
      },
      "source": [
        "## Experiment 2: Bayesian Neural Network"
      ]
    },
    {
      "cell_type": "markdown",
      "metadata": {
        "id": "CNDCM33m6zY8",
        "colab_type": "text"
      },
      "source": [
        "**Likelihood**\n",
        "\n",
        "$p(Y|W, X, \\gamma) = \\prod_{i=1}^N {\\mathcal{N}(y_i | f(x_i; W), \\gamma^{-1})}$\n",
        "\n",
        "**Prior**\n",
        "\n",
        "$p(W| \\lambda)= \\prod_{k=1}^K {\\mathcal{N}(w_k|0, \\lambda^{-1})}$\n",
        "\n",
        "**Hyperpriors**\n",
        "\n",
        "$p(\\gamma) = Gamma(\\gamma | \\alpha_0, \\beta_0)\n",
        "\\\\p(\\lambda) = Gamma(\\lambda | \\alpha_0, \\beta_0)$\n",
        "\n",
        "**Posterior**\n",
        "\n",
        "$p(W, \\gamma, \\lambda | X, Y) \\propto p(Y | W, X, \\gamma) p(W | \\lambda) p(\\gamma) p(\\lambda)$"
      ]
    },
    {
      "cell_type": "markdown",
      "metadata": {
        "id": "UZDyIFuQl_Jx",
        "colab_type": "text"
      },
      "source": [
        "$log(\\mathcal{N}(t | \\mu, \\gamma^{-1}))\n",
        "\\\\=log(\\frac{1}{\\sqrt{2 \\pi \\gamma^-2}}exp(-\\frac{(t - \\mu)^2}{2 \\gamma^{-2}}))\n",
        "\\\\=log(\\frac{\\gamma}{\\sqrt{2 \\pi}}exp(-\\frac{(\\gamma(t - \\mu))^2}{2}))\n",
        "\\\\=log\\,\\gamma -\\frac{(\\gamma(t - \\mu))^2}{2} - \\frac{1}{2}log(2\\pi)$"
      ]
    },
    {
      "cell_type": "code",
      "metadata": {
        "id": "uPMzkZ0WBtdm",
        "colab_type": "code",
        "colab": {}
      },
      "source": [
        "def log_gaussian_pdf(t, mu, log_inv_scale):\n",
        "  # exact\n",
        "  half_log_2pi = 0.5 * math.log(2 * math.pi)\n",
        "  indiv = log_inv_scale - 0.5*torch.pow(torch.exp(log_inv_scale)*(t - mu), 2) - half_log_2pi\n",
        "  return torch.sum(indiv)\n",
        "\n",
        "def log_likelihood(Y, W, X, log_gamma, mlp):\n",
        "  # exact\n",
        "  return log_gaussian_pdf(Y, mlp(W, X), log_gamma)\n",
        "\n",
        "def log_prior(W, log_lambda):\n",
        "  # exact\n",
        "  #param_vec = nn.utils.parameters_to_vector(net.parameters())\n",
        "  return log_gaussian_pdf(W, 0.0, log_lambda)\n",
        "\n",
        "def log_hyperprior(z, alpha=1.0, beta=0.1):\n",
        "  # log pdf of Z where Z = log(G), G ~ Gamma(alpha, beta)\n",
        "  # correct up to constant addition\n",
        "  return beta*z - (1/alpha)*torch.exp(z)\n",
        "\n",
        "def log_posterior(W, log_gamma, log_lambda, X, Y, mlp):\n",
        "  # correct up to constant addition\n",
        "  llike = log_likelihood(Y, W, X, log_gamma, mlp)\n",
        "  lpri = log_prior(W, log_lambda)\n",
        "  lhypri_gamma = log_hyperprior(log_gamma)\n",
        "  lhypri_lambda = log_hyperprior(log_lambda)\n",
        "  return llike + lpri + lhypri_gamma + lhypri_lambda\n",
        "\n",
        "def make_mlp(X_dim, hidden_units=10):\n",
        "  W_dim = (X_dim+1)*hidden_units + (hidden_units+1)*1\n",
        "  relu = nn.ReLU()\n",
        "  def mlp(W, X):\n",
        "    X = X.transpose(1, 0) # (X_dim, B)\n",
        "    t = hidden_units * X_dim\n",
        "    w1 = W[0:t].view(hidden_units, X_dim)\n",
        "    b1 = W[t:t+hidden_units].view(hidden_units, 1)\n",
        "    w2 = W[t+X_dim:t+X_dim+hidden_units].view(1, hidden_units)\n",
        "    b2 = W[-1]\n",
        "    z1 = torch.mm(w1, X) + b1\n",
        "    a1 = relu(z1)\n",
        "    z2 = torch.mm(w2, a1) + b2\n",
        "    return z2\n",
        "  return mlp, W_dim\n",
        "\n",
        "def make_grad(X, Y, mlp):\n",
        "  def fwd_log_post_v(v):\n",
        "    W, log_gamma, log_lambda = v[:-2], v[-2], v[-1]\n",
        "    return log_posterior(W, log_gamma, log_lambda, X, Y, mlp)\n",
        "  return fwd_to_grad(fwd_log_post_v)"
      ],
      "execution_count": 0,
      "outputs": []
    },
    {
      "cell_type": "code",
      "metadata": {
        "id": "5QcvHy_KJLsE",
        "colab_type": "code",
        "colab": {}
      },
      "source": [
        "def train_BNN(X, Y, mlp, W_dim, n_samples, n_iters):\n",
        "  # dimensions\n",
        "  batch_size = X.size(0)\n",
        "  X_dim = X.size(1)\n",
        "  v_dim = W_dim + 2 # MLP weights, log gamma, log lambda\n",
        "\n",
        "  # initialize\n",
        "  grad_log_post_v = make_grad(X, Y, mlp)\n",
        "  init_dist = dist.normal.Normal(0, 0.1)\n",
        "  V = init_dist.sample((n_samples, v_dim))\n",
        "  \n",
        "  # SVGD\n",
        "  sq_acc=0.0\n",
        "  for _ in range(n_iters):\n",
        "    grad_log_post_v = make_grad(X, Y, mlp)\n",
        "    phi = svgd_update(V, grad_log_post_v)\n",
        "    step_sizes, sq_acc = adagrad(phi, sq_acc)\n",
        "    V = V + torch.mul(step_sizes, phi)\n",
        "  return V\n",
        "\n",
        "# make toy data\n",
        "batch_size = 10\n",
        "X_dim = 3\n",
        "X_train = torch.rand((batch_size, X_dim))\n",
        "Y_train = torch.rand((batch_size, 1))\n",
        "\n",
        "# build & train BNN\n",
        "mlp, W_dim = make_mlp(X_dim, hidden_units=10)\n",
        "V = train_BNN(X, Y, mlp, W_dim, n_samples=10, n_iters=5)"
      ],
      "execution_count": 0,
      "outputs": []
    },
    {
      "cell_type": "code",
      "metadata": {
        "id": "EYdMD0gpDWVq",
        "colab_type": "code",
        "colab": {}
      },
      "source": [
        ""
      ],
      "execution_count": 0,
      "outputs": []
    },
    {
      "cell_type": "code",
      "metadata": {
        "id": "l2JR8BmhGn2y",
        "colab_type": "code",
        "colab": {}
      },
      "source": [
        ""
      ],
      "execution_count": 0,
      "outputs": []
    },
    {
      "cell_type": "code",
      "metadata": {
        "id": "C6H1zrGrGn5F",
        "colab_type": "code",
        "colab": {}
      },
      "source": [
        ""
      ],
      "execution_count": 0,
      "outputs": []
    }
  ]
}