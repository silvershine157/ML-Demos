{
  "nbformat": 4,
  "nbformat_minor": 0,
  "metadata": {
    "colab": {
      "name": "SteinVGD.ipynb",
      "version": "0.3.2",
      "provenance": [],
      "collapsed_sections": [],
      "include_colab_link": true
    },
    "kernelspec": {
      "name": "python3",
      "display_name": "Python 3"
    }
  },
  "cells": [
    {
      "cell_type": "markdown",
      "metadata": {
        "id": "view-in-github",
        "colab_type": "text"
      },
      "source": [
        "<a href=\"https://colab.research.google.com/github/silvershine157/ML_Practice/blob/master/SteinVGD.ipynb\" target=\"_parent\"><img src=\"https://colab.research.google.com/assets/colab-badge.svg\" alt=\"Open In Colab\"/></a>"
      ]
    },
    {
      "cell_type": "markdown",
      "metadata": {
        "id": "V3B13IJb5mq8",
        "colab_type": "text"
      },
      "source": [
        "# Stein Variational Gradient Descent\n"
      ]
    },
    {
      "cell_type": "code",
      "metadata": {
        "id": "rCV_OWnl5VCI",
        "colab_type": "code",
        "colab": {}
      },
      "source": [
        "import torch\n",
        "import math\n",
        "import matplotlib.pyplot as plt\n",
        "import seaborn as sns\n",
        "import torch.distributions as dist\n",
        "import torch.nn as nn"
      ],
      "execution_count": 0,
      "outputs": []
    },
    {
      "cell_type": "markdown",
      "metadata": {
        "id": "0HjdeiB4Iefn",
        "colab_type": "text"
      },
      "source": [
        "## SGVD Algorithm"
      ]
    },
    {
      "cell_type": "markdown",
      "metadata": {
        "id": "uySCyGOLMRcJ",
        "colab_type": "text"
      },
      "source": [
        "### What does it do?\n",
        "\n",
        "Let $p$ be a smooth distribution on $\\mathcal{X}$.\n",
        "\n",
        "if we can evaluate $\\nabla_x log\\,p(x) |_{x=x'}$ for any given $x' \\in \\mathcal{X}$,\n",
        "\n",
        "then SVGD algorithm can generate approximate samples from $p$ by iteratively guiding the particles."
      ]
    },
    {
      "cell_type": "code",
      "metadata": {
        "id": "l9Tdb5C5Zi37",
        "colab_type": "code",
        "colab": {}
      },
      "source": [
        "def svgd_run(grad_log_p, dim):\n",
        "  n_iter = 100\n",
        "  n_samples = 100\n",
        "  X = torch.rand(n_samples, dim)\n",
        "  for _ in range(n_iter):\n",
        "    X = svgd_update(X, grad_log_p)\n",
        "  return X # samples from p"
      ],
      "execution_count": 0,
      "outputs": []
    },
    {
      "cell_type": "markdown",
      "metadata": {
        "id": "jkcgjBE3Ri-V",
        "colab_type": "text"
      },
      "source": [
        "### Why is it useful?\n",
        "\n",
        "Suppose we want to evaluate $\\int_{\\mathcal{X}}{g(x) p(x)dx}$ where we have unnormalized $\\bar{p}(x)$ rather than $p(x) = \\frac{\\bar{p}(x)}{\\int_{\\mathcal{X}}{\\bar{p}(x)dx}}$.\n",
        "\n",
        "Analytic integration is often impossible for complex $g$, $p$ and normalization can be intractable.\n",
        "\n",
        "Instead, if we have samples $x_i$ from $p$, then we can construct a MC estimator:\n",
        "$\\int_{\\mathcal{X}}{g(x) p(x)dx} = \\mathbb{E}_{\\mathbb{x} \\sim p}[g(\\mathbb{x})] \\approx \\frac{1}{N} \\sum_{i=1}^N{g(x_i)}$\n",
        "\n"
      ]
    },
    {
      "cell_type": "code",
      "metadata": {
        "id": "7h5MLAtnyARn",
        "colab_type": "code",
        "colab": {}
      },
      "source": [
        "def estimate_integral(g, samples_from_p):  \n",
        "  # Estimate integral\n",
        "  g_values = []\n",
        "  for x in samples_from_p:\n",
        "    g_values.append(g(x)) # g forward\n",
        "  est = sum(g_values)/len(g_values)\n",
        "  return est"
      ],
      "execution_count": 0,
      "outputs": []
    },
    {
      "cell_type": "markdown",
      "metadata": {
        "id": "dVFp0CTWx-xe",
        "colab_type": "text"
      },
      "source": [
        "Drawing samples using MCMC methods are rather slow or unreliable.\n",
        "\n",
        "Meanwhile, SGVD only uses $\\nabla_x log\\,p(x)$, which is exactly same as $\\nabla_x log\\,\\bar{p}(x)$.\n",
        "\n",
        "Therefore, only forward pass of $g$ and forward/backward pass of $\\bar{p}$ is necessary and nothing else!"
      ]
    },
    {
      "cell_type": "code",
      "metadata": {
        "id": "f2phD8P_ZxMH",
        "colab_type": "code",
        "colab": {}
      },
      "source": [
        "# Transform forward function into gradient function\n",
        "def fwd_to_grad(f):\n",
        "  def grad_func(x):\n",
        "    x = x.requires_grad_(True)\n",
        "    r = f(x)\n",
        "    r.backward()\n",
        "    grad = x.grad\n",
        "    x = x.requires_grad_(False)\n",
        "    return grad\n",
        "  return grad_func\n",
        "\n",
        "# Sample from unnormalized log likelihood\n",
        "def sample_unnormalized(log_p_bar, dim):\n",
        "  # Gradient of log-likelihood\n",
        "  grad_log_p = fwd_to_grad(log_p_bar) # normalization doesn't matter\n",
        "  # Use SVGD to draw samples from p\n",
        "  samples_from_p = svgd_run(grad_log_p, dim)\n",
        "  return samples_from_p"
      ],
      "execution_count": 0,
      "outputs": []
    },
    {
      "cell_type": "markdown",
      "metadata": {
        "id": "qPxiS4_VZONs",
        "colab_type": "text"
      },
      "source": [
        "### How does it work?\n",
        "\n",
        "\n",
        "**Update rule**\n",
        "\n",
        "$x_i^{l+1} = x_i^l + \\epsilon_l \\hat{\\phi}^*(x_i^l)$\n",
        "\n",
        "$\\hat{\\phi}^*(x_i^l) = \\frac{1}{n}\\sum_{j=1}^n[k(x_j^l, x_i^l) \\nabla_{x_j^l} log\\,p(x_j^l) + \\nabla_{x_j^l} k(x_j^l, x_i^l)]$"
      ]
    },
    {
      "cell_type": "code",
      "metadata": {
        "id": "csXCLYf9aZS7",
        "colab_type": "code",
        "colab": {}
      },
      "source": [
        "def rbf_kernel(X):\n",
        "  n_samples = X.size(0)\n",
        "  X = X.unsqueeze(dim=1) # (i, 1, d)\n",
        "  X_T = X.transpose(0, 1) # (1, j, d)\n",
        "  D = X - X_T # (i, j, d)\n",
        "  SqD = torch.sum(D**2, dim=2) # (i, j)\n",
        "  medSqD = torch.median(SqD)\n",
        "  if n_samples <= 3:\n",
        "    h = 1.0\n",
        "  else:\n",
        "    h = medSqD / (math.log(n_samples))\n",
        "  K = torch.exp((-1/h)*SqD) # (i, j)\n",
        "  grad_K = (2/h)*torch.einsum('ijd,ij->ijd', D, K) # (i, j ,d)\n",
        "  return K, grad_K\n",
        "\n",
        "def svgd_update(X, grad_log_p, kernel=rbf_kernel):\n",
        "  # TODO: adagrad step_size\n",
        "  n_samples = X.size(0)\n",
        "  P = torch.zeros(X.size())\n",
        "  for j in range(n_samples): # TODO: must be a better way (think neural network)\n",
        "    P[j, :] = grad_log_p(X[j, :]) # (j, d)\n",
        "  K, grad_K = kernel(X) # (i, j), (i, j, d)\n",
        "  S = torch.einsum('ij,jd->ijd', K, P) + grad_K # (i, j, d)\n",
        "  phi = torch.sum(S, dim=1)/n_samples # (i, d)\n",
        "  return phi\n",
        "\n",
        "def adagrad(phi, sq_acc, lr=1.0):\n",
        "  sq_acc = sq_acc + torch.pow(phi, 2)\n",
        "  step_sizes = lr * torch.pow(sq_acc+0.001, -0.5)\n",
        "  return step_sizes, sq_acc"
      ],
      "execution_count": 0,
      "outputs": []
    },
    {
      "cell_type": "markdown",
      "metadata": {
        "id": "PwhEto-xIUN_",
        "colab_type": "text"
      },
      "source": [
        "## Experiment 1: Mixture of Gaussian"
      ]
    },
    {
      "cell_type": "code",
      "metadata": {
        "id": "qRdOAFVzKq1u",
        "colab_type": "code",
        "outputId": "be045e7d-e7b8-431f-85d8-b6be7592a0ae",
        "colab": {
          "base_uri": "https://localhost:8080/",
          "height": 773
        }
      },
      "source": [
        "# Mixture of Gaussian as target\n",
        "g1 = dist.normal.Normal(-2, 1)\n",
        "g2 = dist.normal.Normal(2, 1)\n",
        "target_p = lambda x: (1/3)*torch.exp(g1.log_prob(x)) + (2/3)*torch.exp(g2.log_prob(x))\n",
        "grad_log_p = fwd_to_grad(lambda x: torch.log(target_p(x)))\n",
        "\n",
        "grid = torch.linspace(-15, 15)\n",
        "Y = target_p(grid)\n",
        "grid = grid.numpy()\n",
        "Y = Y.numpy()\n",
        "\n",
        "# initialize\n",
        "n_samples = 100\n",
        "dim=1\n",
        "g0 = dist.normal.Normal(-10, 1)\n",
        "X = g0.sample((n_samples, dim))\n",
        "\n",
        "sq_acc=0.0\n",
        "\n",
        "# update\n",
        "for _ in range(2):\n",
        "  sns.lineplot(grid, Y)\n",
        "  fig = sns.distplot(X.squeeze(dim=1).numpy(), hist=False)\n",
        "  plt.show()\n",
        "  for _ in range(50):\n",
        "    phi = svgd_update(X, grad_log_p)\n",
        "    step_sizes, sq_acc = adagrad(phi, sq_acc, lr=5.0)\n",
        "    X = X + torch.mul(step_sizes, phi)\n",
        "sns.lineplot(grid, Y)\n",
        "fig = sns.distplot(X.squeeze(dim=1).numpy(), hist=False)\n",
        "plt.show()"
      ],
      "execution_count": 353,
      "outputs": [
        {
          "output_type": "display_data",
          "data": {
            "image/png": "[encoded data removed]",
            "text/plain": [
              "<Figure size 432x288 with 1 Axes>"
            ]
          },
          "metadata": {
            "tags": []
          }
        },
        {
          "output_type": "display_data",
          "data": {
            "image/png": "[encoded data removed]",
            "text/plain": [
              "<Figure size 432x288 with 1 Axes>"
            ]
          },
          "metadata": {
            "tags": []
          }
        },
        {
          "output_type": "display_data",
          "data": {
            "image/png": "[encoded data removed]",
            "text/plain": [
              "<Figure size 432x288 with 1 Axes>"
            ]
          },
          "metadata": {
            "tags": []
          }
        }
      ]
    },
    {
      "cell_type": "markdown",
      "metadata": {
        "id": "DZDoUwA-rOGX",
        "colab_type": "text"
      },
      "source": [
        "This is very numerically unstable.\n",
        "Big step size -> far from mode -> almost zero prob -> log gives NaN\n",
        "\n",
        "Why AdaGrad? <- does not guarantee minimization of KL div?\n",
        "\n",
        "learning rate matters"
      ]
    },
    {
      "cell_type": "markdown",
      "metadata": {
        "id": "_hYncIWTImSy",
        "colab_type": "text"
      },
      "source": [
        "## Experiment 2: Bayesian Neural Network"
      ]
    },
    {
      "cell_type": "markdown",
      "metadata": {
        "id": "CNDCM33m6zY8",
        "colab_type": "text"
      },
      "source": [
        "**log PDF of Gaussian**\n",
        "\n",
        "$log(\\mathcal{N}(t | \\mu, \\gamma^{-1}))\n",
        "\\\\=log(\\frac{1}{\\sqrt{2 \\pi \\gamma^-2}}exp(-\\frac{(t - \\mu)^2}{2 \\gamma^{-2}}))\n",
        "\\\\=log(\\frac{\\gamma}{\\sqrt{2 \\pi}}exp(-\\frac{(\\gamma(t - \\mu))^2}{2}))\n",
        "\\\\=log\\,\\gamma -\\frac{(\\gamma(t - \\mu))^2}{2} - \\frac{1}{2}log(2\\pi)$\n",
        "\n",
        "**Likelihood**\n",
        "\n",
        "$p(Y|W, X, \\gamma) = \\prod_{i=1}^N {\\mathcal{N}(y_i | f(x_i; W), \\gamma^{-1})}$\n",
        "\n",
        "**Prior**\n",
        "\n",
        "$p(W| \\lambda)= \\prod_{k=1}^K {\\mathcal{N}(w_k|0, \\lambda^{-1})}$\n",
        "\n",
        "**Hyperpriors**\n",
        "\n",
        "$p(\\gamma) = Gamma(\\gamma | \\alpha_0, \\beta_0)\n",
        "\\\\p(\\lambda) = Gamma(\\lambda | \\alpha_0, \\beta_0)$\n",
        "\n",
        "**Posterior**\n",
        "\n",
        "$p(W, \\gamma, \\lambda | X, Y) \\propto p(Y | W, X, \\gamma) p(W | \\lambda) p(\\gamma) p(\\lambda)$"
      ]
    },
    {
      "cell_type": "code",
      "metadata": {
        "id": "uPMzkZ0WBtdm",
        "colab_type": "code",
        "colab": {}
      },
      "source": [
        "def log_gaussian_pdf(t, mu, log_inv_scale):\n",
        "  # exact\n",
        "  half_log_2pi = 0.5 * math.log(2 * math.pi)\n",
        "  indiv = log_inv_scale - 0.5*torch.pow(torch.exp(log_inv_scale)*(t - mu), 2) - half_log_2pi\n",
        "  return torch.sum(indiv)\n",
        "\n",
        "def log_likelihood(Y, W, X, log_gamma, mlp):\n",
        "  # exact\n",
        "  return log_gaussian_pdf(Y, mlp(X, W), log_gamma)\n",
        "\n",
        "def log_prior(W, log_lambda):\n",
        "  # exact\n",
        "  #param_vec = nn.utils.parameters_to_vector(net.parameters())\n",
        "  return log_gaussian_pdf(W, 0.0, log_lambda)\n",
        "\n",
        "def log_hyperprior(z, alpha=1.0, beta=0.1):\n",
        "  # log pdf of Z where Z = log(G), G ~ Gamma(alpha, beta)\n",
        "  # correct up to constant addition\n",
        "  return beta*z - (1/alpha)*torch.exp(z)\n",
        "\n",
        "def log_posterior(W, log_gamma, log_lambda, X, Y, mlp):\n",
        "  # correct up to constant addition\n",
        "  llike = log_likelihood(Y, W, X, log_gamma, mlp)\n",
        "  lpri = log_prior(W, log_lambda)\n",
        "  lhypri_gamma = log_hyperprior(log_gamma)\n",
        "  lhypri_lambda = log_hyperprior(log_lambda)\n",
        "  return llike + lpri + lhypri_gamma + lhypri_lambda"
      ],
      "execution_count": 0,
      "outputs": []
    },
    {
      "cell_type": "markdown",
      "metadata": {
        "id": "evYqYdoTUn6P",
        "colab_type": "text"
      },
      "source": [
        "### BNN training routine"
      ]
    },
    {
      "cell_type": "markdown",
      "metadata": {
        "id": "3tz7zOCM-ezk",
        "colab_type": "text"
      },
      "source": [
        "181\n",
        "176\n",
        "186\n",
        "torch.Size([181])\n",
        "torch.Size([5])"
      ]
    },
    {
      "cell_type": "code",
      "metadata": {
        "id": "5QcvHy_KJLsE",
        "colab_type": "code",
        "colab": {}
      },
      "source": [
        "def make_mlp(X_dim, hidden_units=10):\n",
        "  W_dim = (X_dim+1)*hidden_units + (hidden_units+1)*1\n",
        "  relu = nn.ReLU()\n",
        "  def mlp(X, W):\n",
        "    X = X.transpose(1, 0) # (X_dim, B)\n",
        "    t = hidden_units * X_dim\n",
        "    w1 = W[0:t].view(hidden_units, X_dim)\n",
        "    b1 = W[t:t+hidden_units].view(hidden_units, 1)\n",
        "    w2 = W[t+hidden_units:t+2*hidden_units].view(1, hidden_units)\n",
        "    b2 = W[-1]\n",
        "    z1 = torch.mm(w1, X) + b1\n",
        "    a1 = relu(z1)\n",
        "    z2 = torch.mm(w2, a1) + b2\n",
        "    return z2.transpose(1, 0) # (B)\n",
        "  return mlp, W_dim\n",
        "\n",
        "def unpack_v(v):\n",
        "  W, log_gamma, log_lambda = v[:-2], v[-2], v[-1]\n",
        "  return W, log_gamma, log_lambda\n",
        "  \n",
        "def make_grad_BNN(X, Y, mlp):\n",
        "  def fwd_BNN_posterior(v):\n",
        "    W, log_gamma, log_lambda = unpack_v(v)\n",
        "    return log_posterior(W, log_gamma, log_lambda, X, Y, mlp)\n",
        "  grad_BNN_posterior = fwd_to_grad(fwd_BNN_posterior)\n",
        "  return grad_BNN_posterior\n",
        "\n",
        "def train_BNN(X, Y, mlp, W_dim, n_samples, n_iters):\n",
        "  # dimensions\n",
        "  batch_size = X.size(0)\n",
        "  X_dim = X.size(1)\n",
        "  v_dim = W_dim + 2 # MLP weights, log gamma, log lambda\n",
        "\n",
        "  # initialize\n",
        "  grad_log_post_v = make_grad(X, Y, mlp)\n",
        "  init_dist = dist.normal.Normal(0, 0.1)\n",
        "  V = init_dist.sample((n_samples, v_dim))\n",
        "  \n",
        "  # SVGD\n",
        "  sq_acc=0.0\n",
        "  for _ in range(n_iters):\n",
        "    grad_BNN_posterior = make_grad_BNN(X, Y, mlp)\n",
        "    phi = svgd_update(V, grad_BNN_posterior)\n",
        "    step_sizes, sq_acc = adagrad(phi, sq_acc)\n",
        "    V = V + torch.mul(step_sizes, phi)\n",
        "  return V"
      ],
      "execution_count": 0,
      "outputs": []
    },
    {
      "cell_type": "markdown",
      "metadata": {
        "id": "ZrRG0NUNUhLh",
        "colab_type": "text"
      },
      "source": [
        "### Train using toy data"
      ]
    },
    {
      "cell_type": "code",
      "metadata": {
        "id": "EYdMD0gpDWVq",
        "colab_type": "code",
        "colab": {}
      },
      "source": [
        "def make_toy_data(N):\n",
        "  # ground truth model\n",
        "  X_dim = 3\n",
        "  GT_X_dist = dist.normal.Normal(0., 3.)\n",
        "  GT_mlp, GT_W_dim = make_mlp(X_dim, hidden_units=2)\n",
        "  GT_W_dist = dist.normal.Normal(0., 1.)\n",
        "  GT_W = GT_W_dist.sample([GT_W_dim])\n",
        "  GT_inv_gamma = 0.1\n",
        "  GT_noise_dist = dist.normal.Normal(0., GT_inv_gamma)\n",
        "  GT_log_gamma = -torch.log(torch.Tensor([GT_inv_gamma]))\n",
        "  # generate data\n",
        "  X = GT_X_dist.sample([N, X_dim])\n",
        "  noise = GT_noise_dist.sample([N, 1])\n",
        "  Y = GT_mlp(X, GT_W) + noise\n",
        "  return X, Y\n",
        "\n",
        "def split_data(X, Y, test_ratio=0.2):\n",
        "  N = X.size(0)\n",
        "  N_test = int(test_ratio*N)\n",
        "  N_train = N - N_test\n",
        "  X_train, Y_train = X[:N_train, :], Y[:N_train, :]\n",
        "  X_test, Y_test = X[N_train:, :], Y[N_train:, :]\n",
        "  return X_train, Y_train, X_test, Y_test\n",
        "\n",
        "X, Y = make_toy_data(300)\n",
        "X_dim = X.size(1)\n",
        "\n",
        "# setup\n",
        "X_train, Y_train, X_test, Y_test = split_data(X, Y)\n",
        "\n",
        "# build & train BNN\n",
        "mlp, W_dim = make_mlp(X_dim, hidden_units=2)\n",
        "good_V = train_BNN(X_train, Y_train, mlp, W_dim, n_samples=20, n_iters=1000)\n",
        "bad_V = train_BNN(X_train, Y_train, mlp, W_dim, n_samples=20, n_iters=1)"
      ],
      "execution_count": 0,
      "outputs": []
    },
    {
      "cell_type": "markdown",
      "metadata": {
        "id": "mVuaD5DJc2L5",
        "colab_type": "text"
      },
      "source": [
        "### Evaluation\n",
        "\n",
        "**inference**\n",
        "\n",
        "$\n",
        "p(\\bar{y} | \\bar{x}, X, Y) \n",
        "\\\\=\\int{p(\\bar{y} | Y|W, \\bar{x}, \\gamma)p(W, \\gamma, \\lambda | X, Y)dW d\\gamma d\\lambda}\n",
        "\\\\=\\int{\\mathcal{N}(\\bar{y} | f(\\bar{x}; W), \\gamma^{-1})p(W, \\gamma, \\lambda | X, Y)dW d\\gamma d\\lambda}\n",
        "\\\\\\approx \\frac{1}{M}\\sum_{m=1}^M{\\mathcal{N}(\\bar{y} | f(\\bar{x}; W_m), \\gamma_m^{-1})}\n",
        "$\n",
        "\n",
        "**bias-variance decomposition**\n",
        "\n",
        "$\\int{(y - \\mu + b)^2\\mathcal{N}(y | \\mu, \\sigma)dy}\n",
        "\\\\=\\int{((y - \\mu)^2 + 2(y - \\mu)b + b^2) \\mathcal{N}(y | \\mu, \\sigma)dy}\n",
        "\\\\=\\sigma^2 + b^2$\n",
        "\n",
        "**mean squared error for BNN**\n",
        "\n",
        "$\n",
        "\\int{(y - \\bar{y})^2\\frac{1}{M}\\sum_{m=1}^M{\\mathcal{N}(y | f(\\bar{x}; W_m), \\gamma_m^{-1})} dy}\n",
        "\\\\=\\frac{1}{M}\\sum_{m=1}^M{\\int{(y - \\bar{y})^2 \\mathcal{N}(y | f(\\bar{x}; W_m), \\gamma_m^{-1}) dy}}\n",
        "\\\\=\\frac{1}{M}\\sum_{m=1}^M[\\gamma_m^{-2} + (f(\\bar{x}; W_m) - \\bar{y})^2]\n",
        "$"
      ]
    },
    {
      "cell_type": "code",
      "metadata": {
        "id": "wOnUai7TcMaW",
        "colab_type": "code",
        "colab": {
          "base_uri": "https://localhost:8080/",
          "height": 51
        },
        "outputId": "69cb4b44-dcb5-4b5d-bab2-7b766550fc82"
      },
      "source": [
        "def test_BNN(X_test, Y_test, V, mlp):\n",
        "  N_data = X_test.size(0)\n",
        "  n_samples = V.size(0)\n",
        "  sq_err_sum = 0.0\n",
        "  ll_sum = 0.0\n",
        "  for m in range(n_samples):\n",
        "    v = V[m, :]\n",
        "    W, log_gamma, log_lambda = unpack_v(v)\n",
        "    variance = torch.pow(torch.exp(-log_gamma), 2)\n",
        "    bias = mlp(X_test, W) - Y_test\n",
        "    sq_err = torch.mul(bias, bias) + variance\n",
        "    sq_err_sum += torch.sum(sq_err)\n",
        "    ll_sum += log_likelihood(Y_test, W, X_test, log_gamma, mlp)\n",
        "  rmse = torch.sqrt(sq_err_sum/(n_samples * N_data)).item()\n",
        "  ll = (ll_sum/(n_samples * N_data)).item()\n",
        "  #TODO: mse -> rmse -> avg over test datapoints??\n",
        "  return rmse, ll\n",
        "\n",
        "# compare good model and bad model\n",
        "rmse, ll = test_BNN(X_test, Y_test, good_V, mlp)\n",
        "print(\"Good model\\tRMSE: %.3f\\tLL: %.3f\"%(rmse, ll))\n",
        "rmse, ll = test_BNN(X_test, Y_test, bad_V, mlp)\n",
        "print(\"Bad model\\tRMSE: %.3f\\tLL: %.3f\"%(rmse, ll))"
      ],
      "execution_count": 469,
      "outputs": [
        {
          "output_type": "stream",
          "text": [
            "Good model\tRMSE: 1.762\tLL: -1.848\n",
            "Bad model\tRMSE: 71.805\tLL: -19033.371\n"
          ],
          "name": "stdout"
        }
      ]
    },
    {
      "cell_type": "markdown",
      "metadata": {
        "id": "s2CMPpvCw6Q6",
        "colab_type": "text"
      },
      "source": [
        "### Naval Dataset"
      ]
    },
    {
      "cell_type": "code",
      "metadata": {
        "id": "C6H1zrGrGn5F",
        "colab_type": "code",
        "colab": {
          "base_uri": "https://localhost:8080/",
          "height": 340
        },
        "outputId": "ea88916c-3441-41b3-c2bd-ade6b6829b92"
      },
      "source": [
        "!wget http://archive.ics.uci.edu/ml/machine-learning-databases/00316/UCI%20CBM%20Dataset.zip -O ./naval.zip\n",
        "!unzip -o naval.zip"
      ],
      "execution_count": 397,
      "outputs": [
        {
          "output_type": "stream",
          "text": [
            "--2019-07-26 06:06:58--  http://archive.ics.uci.edu/ml/machine-learning-databases/00316/UCI%20CBM%20Dataset.zip\n",
            "Resolving archive.ics.uci.edu (archive.ics.uci.edu)... 128.195.10.252\n",
            "Connecting to archive.ics.uci.edu (archive.ics.uci.edu)|128.195.10.252|:80... connected.\n",
            "HTTP request sent, awaiting response... 200 OK\n",
            "Length: 567071 (554K) [application/x-httpd-php]\n",
            "Saving to: ‘./naval.zip’\n",
            "\n",
            "\r./naval.zip           0%[                    ]       0  --.-KB/s               \r./naval.zip         100%[===================>] 553.78K  2.93MB/s    in 0.2s    \n",
            "\n",
            "2019-07-26 06:06:59 (2.93 MB/s) - ‘./naval.zip’ saved [567071/567071]\n",
            "\n",
            "Archive:  naval.zip\n",
            "  inflating: UCI CBM Dataset/.DS_Store  \n",
            "  inflating: __MACOSX/UCI CBM Dataset/._.DS_Store  \n",
            "  inflating: UCI CBM Dataset/data.txt  \n",
            "  inflating: UCI CBM Dataset/Features.txt  \n",
            "  inflating: __MACOSX/UCI CBM Dataset/._Features.txt  \n",
            "  inflating: UCI CBM Dataset/README.txt  \n",
            "  inflating: __MACOSX/UCI CBM Dataset/._README.txt  \n"
          ],
          "name": "stdout"
        }
      ]
    },
    {
      "cell_type": "code",
      "metadata": {
        "id": "rF2bakZy38ii",
        "colab_type": "code",
        "colab": {
          "base_uri": "https://localhost:8080/",
          "height": 51
        },
        "outputId": "478ada33-aff4-4ed9-f214-acc4ceb87cf7"
      },
      "source": [
        "# read data from file\n",
        "with open('UCI CBM Dataset/data.txt') as datafile:\n",
        "  data = []\n",
        "  for line in datafile:\n",
        "    row = [float(tok) for tok in line.strip().split()]\n",
        "    data.append(row)\n",
        "  data = torch.Tensor(data)\n",
        "\n",
        "# normalize data\n",
        "mean = torch.mean(data, dim=0)\n",
        "scale = torch.std(data, dim=0)\n",
        "data = (data - mean)/(scale+0.001)\n",
        "\n",
        "# split data\n",
        "X = data[:, :16]\n",
        "Y = data[:, 16].view(-1, 1)\n",
        "X_train, Y_train, X_test, Y_test = split_data(X, Y)\n",
        "print(X_train.size())\n",
        "print(X_test.size())"
      ],
      "execution_count": 433,
      "outputs": [
        {
          "output_type": "stream",
          "text": [
            "torch.Size([9548, 16])\n",
            "torch.Size([2386, 16])\n"
          ],
          "name": "stdout"
        }
      ]
    },
    {
      "cell_type": "code",
      "metadata": {
        "id": "kB0fIfyp79pS",
        "colab_type": "code",
        "colab": {
          "base_uri": "https://localhost:8080/",
          "height": 51
        },
        "outputId": "082b9538-883f-4222-8a6b-319dcc166d25"
      },
      "source": [
        "mlp, W_dim = make_mlp(X_dim=X_train.size(1), hidden_units=10)\n",
        "good_V = train_BNN(X_train, Y_train, mlp, W_dim, n_samples=1, n_iters=100)\n",
        "bad_V = train_BNN(X_train, Y_train, mlp, W_dim, n_samples=1, n_iters=1)\n",
        "\n",
        "# compare good model and bad model\n",
        "rmse, ll = test_BNN(X_test, Y_test, good_V, mlp)\n",
        "print(\"Good model\\tRMSE: %.3f\\tLL: %.3f\"%(rmse, ll))\n",
        "rmse, ll = test_BNN(X_test, Y_test, bad_V, mlp)\n",
        "print(\"Bad model\\tRMSE: %.3f\\tLL: %.3f\"%(rmse, ll))\n"
      ],
      "execution_count": 476,
      "outputs": [
        {
          "output_type": "stream",
          "text": [
            "Good model\tRMSE: 1.690\tLL: -2.094\n",
            "Bad model\tRMSE: 69.682\tLL: -519.103\n"
          ],
          "name": "stdout"
        }
      ]
    }
  ]
}