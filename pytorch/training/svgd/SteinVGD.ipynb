{
  "nbformat": 4,
  "nbformat_minor": 0,
  "metadata": {
    "colab": {
      "name": "SteinVGD.ipynb",
      "version": "0.3.2",
      "provenance": [],
      "collapsed_sections": [],
      "include_colab_link": true
    },
    "kernelspec": {
      "name": "python3",
      "display_name": "Python 3"
    },
    "accelerator": "GPU"
  },
  "cells": [
    {
      "cell_type": "markdown",
      "metadata": {
        "id": "view-in-github",
        "colab_type": "text"
      },
      "source": [
        "<a href=\"https://colab.research.google.com/github/silvershine157/ML_Practice/blob/master/SteinVGD.ipynb\" target=\"_parent\"><img src=\"https://colab.research.google.com/assets/colab-badge.svg\" alt=\"Open In Colab\"/></a>"
      ]
    },
    {
      "cell_type": "markdown",
      "metadata": {
        "id": "V3B13IJb5mq8",
        "colab_type": "text"
      },
      "source": [
        "# Stein Variational Gradient Descent\n"
      ]
    },
    {
      "cell_type": "markdown",
      "metadata": {
        "id": "za-MMhbHfzuo",
        "colab_type": "text"
      },
      "source": [
        "**Not yet implemented:**\n",
        "\n",
        "Parallelization of particles\n",
        "\n",
        "Subsamping data\n",
        "\n",
        "**References:**\n",
        "\n",
        "Author's code: https://github.com/DartML/Stein-Variational-Gradient-Descent/blob/master/python/bayesian_nn.py\n",
        "\n",
        "Log Gamma distribution: http://www.math.wm.edu/~leemis/chart/UDR/PDFs/GammaLoggamma.pdf\n",
        "\n",
        "Expectation of cosine of Gaussian variable: https://nbviewer.jupyter.org/gist/dougalsutherland/8513749\n",
        "\n",
        "\n"
      ]
    },
    {
      "cell_type": "code",
      "metadata": {
        "id": "rCV_OWnl5VCI",
        "colab_type": "code",
        "colab": {
          "base_uri": "https://localhost:8080/",
          "height": 34
        },
        "outputId": "20ee574a-d83f-412d-e943-8d355bbe39c5"
      },
      "source": [
        "import torch\n",
        "import math\n",
        "import random\n",
        "import matplotlib.pyplot as plt\n",
        "import seaborn as sns\n",
        "import torch.distributions as dist\n",
        "import torch.nn as nn\n",
        "\n",
        "# set device\n",
        "use_gpu = True\n",
        "if use_gpu:\n",
        "  if torch.cuda.is_available():\n",
        "    device = torch.device('cuda')\n",
        "  else:\n",
        "    print(\"No GPU\")\n",
        "else:\n",
        "  device = torch.device('cpu')\n",
        "print(device)"
      ],
      "execution_count": 174,
      "outputs": [
        {
          "output_type": "stream",
          "text": [
            "cuda\n"
          ],
          "name": "stdout"
        }
      ]
    },
    {
      "cell_type": "markdown",
      "metadata": {
        "id": "0HjdeiB4Iefn",
        "colab_type": "text"
      },
      "source": [
        "## SGVD Algorithm"
      ]
    },
    {
      "cell_type": "markdown",
      "metadata": {
        "id": "uySCyGOLMRcJ",
        "colab_type": "text"
      },
      "source": [
        "### What does it do?\n",
        "\n",
        "Let $p$ be a smooth distribution on $\\mathcal{X}$.\n",
        "\n",
        "if we can evaluate $\\nabla_x log\\,p(x) |_{x=x'}$ for any given $x' \\in \\mathcal{X}$,\n",
        "\n",
        "then SVGD algorithm can generate approximate samples from $p$ by iteratively guiding the particles."
      ]
    },
    {
      "cell_type": "code",
      "metadata": {
        "id": "l9Tdb5C5Zi37",
        "colab_type": "code",
        "colab": {}
      },
      "source": [
        "# samples_from_p = sgvd(grad_log_p)"
      ],
      "execution_count": 0,
      "outputs": []
    },
    {
      "cell_type": "markdown",
      "metadata": {
        "id": "jkcgjBE3Ri-V",
        "colab_type": "text"
      },
      "source": [
        "### Why is it useful?\n",
        "\n",
        "Suppose we want to evaluate $\\int_{\\mathcal{X}}{g(x) p(x)dx}$ where we have unnormalized $\\bar{p}(x)$ rather than $p(x) = \\frac{\\bar{p}(x)}{\\int_{\\mathcal{X}}{\\bar{p}(x)dx}}$.\n",
        "\n",
        "Analytic integration is often impossible for complex $g$, $p$ and normalization can be intractable.\n",
        "\n",
        "Instead, if we have samples $x_i$ from $p$, then we can construct a MC estimator:\n",
        "$\\int_{\\mathcal{X}}{g(x) p(x)dx} = \\mathbb{E}_{\\mathbb{x} \\sim p}[g(\\mathbb{x})] \\approx \\frac{1}{N} \\sum_{i=1}^N{g(x_i)}$\n",
        "\n"
      ]
    },
    {
      "cell_type": "code",
      "metadata": {
        "id": "7h5MLAtnyARn",
        "colab_type": "code",
        "colab": {}
      },
      "source": [
        "def estimate_integral(g, samples_from_p):\n",
        "  g_values = []\n",
        "  for x in samples_from_p:\n",
        "    g_values.append(g(x))\n",
        "  est = sum(g_values)/len(g_values)\n",
        "  return est"
      ],
      "execution_count": 0,
      "outputs": []
    },
    {
      "cell_type": "markdown",
      "metadata": {
        "id": "dVFp0CTWx-xe",
        "colab_type": "text"
      },
      "source": [
        "Drawing samples using MCMC methods are rather slow or unreliable.\n",
        "\n",
        "Meanwhile, SGVD only uses $\\nabla_x log\\,p(x)$, which is exactly same as $\\nabla_x log\\,\\bar{p}(x)$.\n",
        "\n",
        "Therefore, only forward pass of $g$ and forward/backward pass of $log\\,\\bar{p}$ is necessary."
      ]
    },
    {
      "cell_type": "code",
      "metadata": {
        "id": "f2phD8P_ZxMH",
        "colab_type": "code",
        "colab": {}
      },
      "source": [
        "# Transform forward function into gradient function\n",
        "def fwd_to_grad(f):\n",
        "  def grad_func(x):\n",
        "    x = x.requires_grad_(True)\n",
        "    r = f(x)\n",
        "    r.backward()\n",
        "    grad = x.grad\n",
        "    x = x.requires_grad_(False)\n",
        "    return grad\n",
        "  return grad_func\n",
        "\n",
        "def sample_unnormalized(log_p_bar, dim): # unused\n",
        "  grad_log_p = fwd_to_grad(log_p_bar)\n",
        "  samples_from_p = svgd_run(grad_log_p, dim)\n",
        "  return samples_from_p"
      ],
      "execution_count": 0,
      "outputs": []
    },
    {
      "cell_type": "markdown",
      "metadata": {
        "id": "qPxiS4_VZONs",
        "colab_type": "text"
      },
      "source": [
        "### How does it work?\n",
        "\n",
        "\n",
        "**Update rule**\n",
        "\n",
        "$x_i^{l+1} = x_i^l + \\epsilon_l \\hat{\\phi}^*(x_i^l)$\n",
        "\n",
        "$\\hat{\\phi}^*(x_i^l) = \\frac{1}{n}\\sum_{j=1}^n[k(x_j^l, x_i^l) \\nabla_{x_j^l} log\\,p(x_j^l) + \\nabla_{x_j^l} k(x_j^l, x_i^l)]$"
      ]
    },
    {
      "cell_type": "code",
      "metadata": {
        "id": "csXCLYf9aZS7",
        "colab_type": "code",
        "colab": {}
      },
      "source": [
        "def rbf_kernel(X):\n",
        "  particle_size = X.size(0)\n",
        "  X = X.unsqueeze(dim=1) # (i, 1, d)\n",
        "  X_T = X.transpose(0, 1) # (1, j, d)\n",
        "  D = X - X_T # (i, j, d)\n",
        "  SqD = torch.sum(D**2, dim=2) # (i, j)\n",
        "  medSqD = torch.median(SqD)\n",
        "  if particle_size <= 3:\n",
        "    h = 1.0\n",
        "  else:\n",
        "    h = medSqD / (math.log(particle_size))\n",
        "  K = torch.exp((-1/h)*SqD) # (i, j)\n",
        "  grad_K = (2/h)*torch.einsum('ijd,ij->ijd', D, K) # (i, j ,d)\n",
        "  return K, grad_K\n",
        "\n",
        "def svgd_update(X, grad_log_p, kernel=rbf_kernel):\n",
        "  particle_size = X.size(0)\n",
        "  grad_P_list = [grad_log_p(X[j, :]).view(1, -1) for j in range(particle_size)] # TODO: how to parallelize particles?\n",
        "  grad_P = torch.cat(grad_P_list, dim=0)\n",
        "  K, grad_K = kernel(X) # (i, j), (i, j, d)\n",
        "  S = torch.einsum('ij,jd->ijd', K, grad_P) + grad_K # (i, j, d)\n",
        "  phi = torch.sum(S, dim=1)/particle_size # (i, d)\n",
        "  return phi\n",
        "\n",
        "def adagrad(phi, sq_acc, lr=1.0):\n",
        "  sq_acc = sq_acc + torch.pow(phi, 2)\n",
        "  step_sizes = lr * torch.pow(sq_acc+0.001, -0.5)\n",
        "  return step_sizes, sq_acc"
      ],
      "execution_count": 0,
      "outputs": []
    },
    {
      "cell_type": "markdown",
      "metadata": {
        "id": "PwhEto-xIUN_",
        "colab_type": "text"
      },
      "source": [
        "## Experiment 1: Mixture of Gaussian"
      ]
    },
    {
      "cell_type": "code",
      "metadata": {
        "id": "qRdOAFVzKq1u",
        "colab_type": "code",
        "outputId": "f147633b-c95a-4511-9781-39d76c3b96b6",
        "colab": {
          "base_uri": "https://localhost:8080/",
          "height": 773
        }
      },
      "source": [
        "# Mixture of Gaussian as target\n",
        "g1 = dist.normal.Normal(-2, 1)\n",
        "g2 = dist.normal.Normal(2, 1)\n",
        "target_p = lambda x: (1/3)*torch.exp(g1.log_prob(x)) + (2/3)*torch.exp(g2.log_prob(x))\n",
        "grad_log_p = fwd_to_grad(lambda x: torch.log(target_p(x)))\n",
        "\n",
        "grid = torch.linspace(-15, 15)\n",
        "Y = target_p(grid)\n",
        "grid = grid.numpy()\n",
        "Y = Y.numpy()\n",
        "\n",
        "# initialize\n",
        "particle_size = 100\n",
        "dim=1\n",
        "g_init = dist.normal.Normal(-10, 1)\n",
        "X = g_init.sample((particle_size, dim))\n",
        "sq_acc=0.0\n",
        "\n",
        "# update\n",
        "for _ in range(2):\n",
        "  sns.lineplot(grid, Y)\n",
        "  X = X.cpu()\n",
        "  fig = sns.distplot(X.squeeze(dim=1).numpy(), hist=False)\n",
        "  X = X.to(device)\n",
        "  plt.show()\n",
        "  for _ in range(100):\n",
        "    phi = svgd_update(X, grad_log_p)\n",
        "    step_sizes, sq_acc = adagrad(phi, sq_acc, lr=5.0)\n",
        "    X = X + torch.mul(step_sizes, phi)\n",
        "X = X.cpu()\n",
        "sns.lineplot(grid, Y)\n",
        "fig = sns.distplot(X.squeeze(dim=1).numpy(), hist=False)\n",
        "plt.show()"
      ],
      "execution_count": 245,
      "outputs": [
        {
          "output_type": "display_data",
          "data": {
            "image/png": "[encoded data removed]",
            "text/plain": [
              "<Figure size 432x288 with 1 Axes>"
            ]
          },
          "metadata": {
            "tags": []
          }
        },
        {
          "output_type": "display_data",
          "data": {
            "image/png": "[encoded data removed]",
            "text/plain": [
              "<Figure size 432x288 with 1 Axes>"
            ]
          },
          "metadata": {
            "tags": []
          }
        },
        {
          "output_type": "display_data",
          "data": {
            "image/png": "[encoded data removed]",
            "text/plain": [
              "<Figure size 432x288 with 1 Axes>"
            ]
          },
          "metadata": {
            "tags": []
          }
        }
      ]
    },
    {
      "cell_type": "markdown",
      "metadata": {
        "id": "6fplN6jNhHRi",
        "colab_type": "text"
      },
      "source": [
        "### Check expectations"
      ]
    },
    {
      "cell_type": "markdown",
      "metadata": {
        "id": "57D2Te2DiRTI",
        "colab_type": "text"
      },
      "source": [
        "$\\mathbb{E}_{\\mathbb{x} \\sim p}[g(\\mathbb{x})] = \\frac{1}{3}\\mathbb{E}_{\\mathbb{x} \\sim \\mathcal{N}(-2, 1)}[g(\\mathbb{x})] + \\frac{2}{3}\\mathbb{E}_{\\mathbb{x} \\sim \\mathcal{N}(2, 1)}[g(\\mathbb{x})]$"
      ]
    },
    {
      "cell_type": "code",
      "metadata": {
        "id": "sTijiLF2hKUc",
        "colab_type": "code",
        "colab": {
          "base_uri": "https://localhost:8080/",
          "height": 85
        },
        "outputId": "396a99f9-e876-41dc-84d2-ff297c3239fc"
      },
      "source": [
        "def expectation_test(X):\n",
        "  # E[X]\n",
        "  E_x_hat = estimate_integral(lambda x: x, X)\n",
        "  E_x = 2/3\n",
        "  mse_x = (E_x - E_x_hat)**2\n",
        "\n",
        "  # E[X^2]\n",
        "  E_xx_hat = estimate_integral(lambda x: x**2, X)\n",
        "  E_xx = 5\n",
        "  mse_xx = (E_xx - E_xx_hat)**2\n",
        "\n",
        "  # E[cos(w*X + b)]\n",
        "  trials = 20\n",
        "  sum_sqe = 0.0\n",
        "  w_dist = dist.normal.Normal(0.0, 1.0)\n",
        "  b_dist = dist.uniform.Uniform(0.0, 2*math.pi)\n",
        "  for _ in range(trials):\n",
        "    w = w_dist.sample()\n",
        "    b = b_dist.sample()\n",
        "    E_cos_hat = estimate_integral(lambda x: torch.cos(w*x + b), X)\n",
        "    # w*x + b is Gaussian(w*mu_x+b, w) distributed when x is Gaussian(mu_x, 1) distributed\n",
        "    # E[cos z] = exp(-s_z^2/2)*cos mu_z when z is Gaussian(mu_z, s_z) distributed\n",
        "    E_cos_1 = math.exp(-w**2/2)*math.cos(w*(-2)+b)\n",
        "    E_cos_2 = math.exp(-w**2/2)*math.cos(w*(2)+b)\n",
        "    E_cos = (1/3)*E_cos_1 + (2/3)*E_cos_2\n",
        "    sum_sqe += (E_cos-E_cos_hat)**2 \n",
        "  mse_cos = sum_sqe/trials\n",
        "  return mse_x, mse_xx, mse_cos\n",
        "\n",
        "def expectation_test_for_particle_sizes(particle_sizes):\n",
        "  \n",
        "  mse_xs = {\"svgd\":[], \"mc\":[]}\n",
        "  mse_xxs = {\"svgd\":[], \"mc\":[]}\n",
        "  mse_coss = {\"svgd\":[], \"mc\":[]}\n",
        "  for particle_size in particle_sizes:\n",
        "    \n",
        "    print(\"Training with particle size: %d\"%particle_size)\n",
        "    # initialize\n",
        "    X = g_init.sample((particle_size, dim))\n",
        "    X = X.to(device)\n",
        "    sq_acc=0.0\n",
        "    for _ in range(300):\n",
        "      phi = svgd_update(X, grad_log_p)\n",
        "      step_sizes, sq_acc = adagrad(phi, sq_acc, lr=5.0)\n",
        "      X = X + torch.mul(step_sizes, phi)\n",
        "    X = X.cpu()\n",
        "\n",
        "    mse_x, mse_xx, mse_cos = check_expectations(X)\n",
        "    mse_xs[\"svgd\"].append(mse_x)\n",
        "    mse_xxs[\"svgd\"].append(mse_xx)\n",
        "    mse_coss[\"svgd\"].append(mse_cos)\n",
        "    \n",
        "    # MC sampling as baseline\n",
        "    b0 = dist.bernoulli.Bernoulli(2/3) # 2/3: 1, 1/3:0\n",
        "    g0 = dist.normal.Normal(0, 1)\n",
        "    mc_X = g0.sample((particle_size, 1))\n",
        "    left_or_right = b0.sample((particle_size, 1))\n",
        "    mc_X = mc_X + 4*(left_or_right-0.5)\n",
        "    \n",
        "    mse_x, mse_xx, mse_cos = check_expectations(mc_X)\n",
        "    mse_xs[\"mc\"].append(mse_x)\n",
        "    mse_xxs[\"mc\"].append(mse_xx)\n",
        "    mse_coss[\"mc\"].append(mse_cos)\n",
        "    \n",
        "  return mse_xs, mse_xxs, mse_coss\n",
        "\n",
        "particle_sizes = [10, 40, 70, 100]\n",
        "mse_xs, mse_xxs, mse_coss = expectation_test_for_particle_sizes(particle_sizes)\n",
        "\n"
      ],
      "execution_count": 259,
      "outputs": [
        {
          "output_type": "stream",
          "text": [
            "Training with particle size: 10\n",
            "Training with particle size: 40\n",
            "Training with particle size: 70\n",
            "Training with particle size: 100\n"
          ],
          "name": "stdout"
        }
      ]
    },
    {
      "cell_type": "code",
      "metadata": {
        "id": "FYmBhEHgvqPd",
        "colab_type": "code",
        "colab": {
          "base_uri": "https://localhost:8080/",
          "height": 851
        },
        "outputId": "1de2a4c9-8759-448d-e231-0623fd8dea4a"
      },
      "source": [
        "# visualize MSEs\n",
        "def visualize_mse(title, particle_sizes, mse_svgd, mse_mc):\n",
        "  plt.plot(particle_sizes, mse_xs[\"svgd\"], label=\"SVGD\")\n",
        "  plt.plot(particle_sizes, mse_xs[\"mc\"], label=\"MC\")\n",
        "  plt.legend()\n",
        "  plt.yscale('log')\n",
        "  plt.xlabel('particle size')\n",
        "  plt.title(title)\n",
        "  plt.show()\n",
        "  pass\n",
        "\n",
        "visualize_mse('MSE for estimating E[X]', particle_sizes, mse_xs, None)\n",
        "visualize_mse('MSE for estimating E[X^2]', particle_sizes, mse_xxs, None)\n",
        "visualize_mse('MSE for estimating E[cos(w*X+b)]', particle_sizes, mse_coss, None)\n"
      ],
      "execution_count": 260,
      "outputs": [
        {
          "output_type": "display_data",
          "data": {
            "image/png": "[encoded data removed]",
            "text/plain": [
              "<Figure size 432x288 with 1 Axes>"
            ]
          },
          "metadata": {
            "tags": []
          }
        },
        {
          "output_type": "display_data",
          "data": {
            "image/png": "[encoded data removed]",
            "text/plain": [
              "<Figure size 432x288 with 1 Axes>"
            ]
          },
          "metadata": {
            "tags": []
          }
        },
        {
          "output_type": "display_data",
          "data": {
            "image/png": "[encoded data removed]",
            "text/plain": [
              "<Figure size 432x288 with 1 Axes>"
            ]
          },
          "metadata": {
            "tags": []
          }
        }
      ]
    },
    {
      "cell_type": "markdown",
      "metadata": {
        "id": "_hYncIWTImSy",
        "colab_type": "text"
      },
      "source": [
        "## Experiment 2: Bayesian Neural Network"
      ]
    },
    {
      "cell_type": "markdown",
      "metadata": {
        "id": "CNDCM33m6zY8",
        "colab_type": "text"
      },
      "source": [
        "**log PDF of Gaussian**\n",
        "\n",
        "$log(\\mathcal{N}(t | \\mu, \\gamma^{-1}))\n",
        "\\\\=log(\\frac{1}{\\sqrt{2 \\pi \\gamma^-2}}exp(-\\frac{(t - \\mu)^2}{2 \\gamma^{-2}}))\n",
        "\\\\=log(\\frac{\\gamma}{\\sqrt{2 \\pi}}exp(-\\frac{(\\gamma(t - \\mu))^2}{2}))\n",
        "\\\\=log\\,\\gamma -\\frac{(\\gamma(t - \\mu))^2}{2} - \\frac{1}{2}log(2\\pi)$\n",
        "\n",
        "**Likelihood**\n",
        "\n",
        "$p(Y|W, X, \\gamma) = \\prod_{i=1}^N {\\mathcal{N}(y_i | f(x_i; W), \\gamma^{-1})}$\n",
        "\n",
        "**Prior**\n",
        "\n",
        "$p(W| \\lambda)= \\prod_{k=1}^K {\\mathcal{N}(w_k|0, \\lambda^{-1})}$\n",
        "\n",
        "**Hyperpriors**\n",
        "\n",
        "$p(\\gamma) = Gamma(\\gamma | \\alpha_0, \\beta_0)\n",
        "\\\\p(\\lambda) = Gamma(\\lambda | \\alpha_0, \\beta_0)$\n",
        "\n",
        "**Posterior**\n",
        "\n",
        "$p(W, \\gamma, \\lambda | X, Y) \\propto p(Y | W, X, \\gamma) p(W | \\lambda) p(\\gamma) p(\\lambda)$"
      ]
    },
    {
      "cell_type": "code",
      "metadata": {
        "id": "uPMzkZ0WBtdm",
        "colab_type": "code",
        "colab": {}
      },
      "source": [
        "half_log_2pi = torch.Tensor([0.5 * math.log(2 * math.pi)]).to(device)\n",
        "zero = torch.Tensor([0.0]).to(device)\n",
        "\n",
        "def log_gaussian_pdf(t, mu, log_inv_scale):\n",
        "  # exact\n",
        "  indiv = log_inv_scale - torch.pow(torch.exp(log_inv_scale)*(t - mu), 2)/2 - half_log_2pi\n",
        "  return torch.sum(indiv)\n",
        "\n",
        "def log_likelihood(Y, W, X, log_gamma, mlp):\n",
        "  # exact\n",
        "  return log_gaussian_pdf(Y, mlp(X, W), log_gamma)\n",
        "\n",
        "def log_prior(W, log_lambda):\n",
        "  # exact\n",
        "  #param_vec = nn.utils.parameters_to_vector(net.parameters())\n",
        "  return log_gaussian_pdf(W, zero, log_lambda)\n",
        "\n",
        "def log_hyperprior(z, alpha=1.0, beta=0.1):\n",
        "  # log pdf of Z where Z = log(G), G ~ Gamma(alpha, beta)\n",
        "  # correct up to constant addition\n",
        "  return beta*z - (1/alpha)*torch.exp(z)\n",
        "\n",
        "def log_posterior(W, log_gamma, log_lambda, X, Y, mlp):\n",
        "  # correct up to constant addition\n",
        "  llike = log_likelihood(Y, W, X, log_gamma, mlp)\n",
        "  lpri = log_prior(W, log_lambda)\n",
        "  lhypri_gamma = log_hyperprior(log_gamma)\n",
        "  lhypri_lambda = log_hyperprior(log_lambda)\n",
        "  return llike + lpri + lhypri_gamma + lhypri_lambda"
      ],
      "execution_count": 0,
      "outputs": []
    },
    {
      "cell_type": "markdown",
      "metadata": {
        "id": "evYqYdoTUn6P",
        "colab_type": "text"
      },
      "source": [
        "### BNN training routine"
      ]
    },
    {
      "cell_type": "code",
      "metadata": {
        "id": "5QcvHy_KJLsE",
        "colab_type": "code",
        "colab": {}
      },
      "source": [
        "def make_mlp(X_dim, hidden_units=10):\n",
        "  W_dim = (X_dim+1)*hidden_units + (hidden_units+1)*1\n",
        "  relu = nn.ReLU()\n",
        "  def mlp(X, W):\n",
        "    X = X.transpose(1, 0) # (X_dim, B)\n",
        "    t = hidden_units * X_dim\n",
        "    w1 = W[0:t].view(hidden_units, X_dim)\n",
        "    b1 = W[t:t+hidden_units].view(hidden_units, 1)\n",
        "    w2 = W[t+hidden_units:t+2*hidden_units].view(1, hidden_units)\n",
        "    b2 = W[-1]\n",
        "    z1 = torch.mm(w1, X) + b1\n",
        "    a1 = relu(z1)\n",
        "    z2 = torch.mm(w2, a1) + b2\n",
        "    return z2.transpose(1, 0) # (B)\n",
        "  return mlp, W_dim\n",
        "\n",
        "def unpack_v(v):\n",
        "  W, log_gamma, log_lambda = v[:-2], v[-2], v[-1]\n",
        "  return W, log_gamma, log_lambda\n",
        "  \n",
        "def make_grad_BNN(X, Y, mlp):\n",
        "  def fwd_BNN_posterior(v):\n",
        "    W, log_gamma, log_lambda = unpack_v(v)\n",
        "    return log_posterior(W, log_gamma, log_lambda, X, Y, mlp)\n",
        "  grad_BNN_posterior = fwd_to_grad(fwd_BNN_posterior)\n",
        "  return grad_BNN_posterior\n",
        "\n",
        "def train_BNN(X, Y, mlp, W_dim, particle_size, n_iters, lr=0.1, init_scale=0.1, V_given=None):\n",
        "  # dimensions\n",
        "  batch_size = X.size(0)\n",
        "  X_dim = X.size(1)\n",
        "  v_dim = W_dim + 2 # MLP weights, log gamma, log lambda\n",
        "\n",
        "  # initialize\n",
        "  grad_log_post_v = make_grad_BNN(X, Y, mlp)\n",
        "  if V_given is None:\n",
        "    init_dist = dist.normal.Normal(0, init_scale)\n",
        "    V = init_dist.sample((particle_size, v_dim))\n",
        "  else:\n",
        "    V = V_given\n",
        "  \n",
        "  # SVGD\n",
        "  sq_acc=0.0\n",
        "  V = V.to(device)\n",
        "  X = X.to(device)\n",
        "  Y = Y.to(device)\n",
        "  for _ in range(n_iters):\n",
        "    grad_BNN_posterior = make_grad_BNN(X, Y, mlp)\n",
        "    phi = svgd_update(V, grad_BNN_posterior)\n",
        "    step_sizes, sq_acc = adagrad(phi, sq_acc, lr=lr)\n",
        "    V = V + torch.mul(step_sizes, phi)\n",
        "  V = V.cpu()\n",
        "    \n",
        "  return V"
      ],
      "execution_count": 0,
      "outputs": []
    },
    {
      "cell_type": "markdown",
      "metadata": {
        "id": "mVuaD5DJc2L5",
        "colab_type": "text"
      },
      "source": [
        "### Evaluation\n",
        "\n",
        "**inference**\n",
        "\n",
        "$\n",
        "p(\\bar{y} | \\bar{x}, X, Y) \n",
        "\\\\=\\int{p(\\bar{y} | Y|W, \\bar{x}, \\gamma)p(W, \\gamma, \\lambda | X, Y)dW d\\gamma d\\lambda}\n",
        "\\\\=\\int{\\mathcal{N}(\\bar{y} | f(\\bar{x}; W), \\gamma^{-1})p(W, \\gamma, \\lambda | X, Y)dW d\\gamma d\\lambda}\n",
        "\\\\\\approx \\frac{1}{M}\\sum_{m=1}^M{\\mathcal{N}(\\bar{y} | f(\\bar{x}; W_m), \\gamma_m^{-1})}\n",
        "$\n",
        "\n",
        "**bias-variance decomposition**\n",
        "\n",
        "$\\int{(y - \\mu + b)^2\\mathcal{N}(y | \\mu, \\sigma)dy}\n",
        "\\\\=\\int{((y - \\mu)^2 + 2(y - \\mu)b + b^2) \\mathcal{N}(y | \\mu, \\sigma)dy}\n",
        "\\\\=\\sigma^2 + b^2$\n",
        "\n",
        "**mean squared error for BNN**\n",
        "\n",
        "$\n",
        "\\int{(y - \\bar{y})^2\\frac{1}{M}\\sum_{m=1}^M{\\mathcal{N}(y | f(\\bar{x}; W_m), \\gamma_m^{-1})} dy}\n",
        "\\\\=\\frac{1}{M}\\sum_{m=1}^M{\\int{(y - \\bar{y})^2 \\mathcal{N}(y | f(\\bar{x}; W_m), \\gamma_m^{-1}) dy}}\n",
        "\\\\=\\frac{1}{M}\\sum_{m=1}^M[\\gamma_m^{-2} + (f(\\bar{x}; W_m) - \\bar{y})^2]\n",
        "$"
      ]
    },
    {
      "cell_type": "code",
      "metadata": {
        "id": "wOnUai7TcMaW",
        "colab_type": "code",
        "colab": {}
      },
      "source": [
        "def test_BNN(X_test, Y_test, V, mlp):\n",
        "  N_data = X_test.size(0)\n",
        "  particle_size = V.size(0)\n",
        "  sq_err_sum = 0.0\n",
        "  ll_sum = 0.0\n",
        "  X_test = X_test.to(device)\n",
        "  Y_test = Y_test.to(device)\n",
        "  V = V.to(device)\n",
        "  for m in range(particle_size):\n",
        "    v = V[m, :]\n",
        "    W, log_gamma, log_lambda = unpack_v(v)\n",
        "    variance = torch.pow(torch.exp(-log_gamma), 2)\n",
        "    bias = mlp(X_test, W) - Y_test\n",
        "    sq_err = torch.mul(bias, bias) + variance\n",
        "    sq_err_sum += torch.sum(sq_err).item()\n",
        "    ll_sum += log_likelihood(Y_test, W, X_test, log_gamma, mlp).item()\n",
        "  rmse = math.sqrt(sq_err_sum/(particle_size * N_data))\n",
        "  ll = ll_sum/(particle_size * N_data)\n",
        "  return rmse, ll"
      ],
      "execution_count": 0,
      "outputs": []
    },
    {
      "cell_type": "markdown",
      "metadata": {
        "id": "3Ghc8hQKKrkr",
        "colab_type": "text"
      },
      "source": [
        "### Test using toy data"
      ]
    },
    {
      "cell_type": "code",
      "metadata": {
        "id": "EYdMD0gpDWVq",
        "colab_type": "code",
        "colab": {
          "base_uri": "https://localhost:8080/",
          "height": 51
        },
        "outputId": "848e2139-2efe-46ab-f5ca-5c259b0d10af"
      },
      "source": [
        "def make_toy_data(N):\n",
        "  # ground truth model\n",
        "  X_dim = 3\n",
        "  GT_X_dist = dist.normal.Normal(0., 3.)\n",
        "  GT_mlp, GT_W_dim = make_mlp(X_dim, hidden_units=2)\n",
        "  GT_W_dist = dist.normal.Normal(0., 1.)\n",
        "  GT_W = GT_W_dist.sample([GT_W_dim])\n",
        "  GT_inv_gamma = 0.1\n",
        "  GT_noise_dist = dist.normal.Normal(0., GT_inv_gamma)\n",
        "  GT_log_gamma = -torch.log(torch.Tensor([GT_inv_gamma]))\n",
        "  # generate data\n",
        "  X = GT_X_dist.sample([N, X_dim])\n",
        "  noise = GT_noise_dist.sample([N, 1])\n",
        "  Y = GT_mlp(X, GT_W) + noise\n",
        "  return X, Y\n",
        "\n",
        "def split_data(X, Y, test_ratio=0.2):\n",
        "  N = X.size(0)\n",
        "  N_test = int(test_ratio*N)\n",
        "  N_train = N - N_test\n",
        "  X_train, Y_train = X[:N_train, :], Y[:N_train, :]\n",
        "  X_test, Y_test = X[N_train:, :], Y[N_train:, :]\n",
        "  return X_train, Y_train, X_test, Y_test\n",
        "\n",
        "X, Y = make_toy_data(300)\n",
        "X_dim = X.size(1)\n",
        "\n",
        "# setup\n",
        "X_train, Y_train, X_test, Y_test = split_data(X, Y)\n",
        "\n",
        "# build & train BNN\n",
        "mlp, W_dim = make_mlp(X_dim, hidden_units=2)\n",
        "good_V = train_BNN(X_train, Y_train, mlp, W_dim, particle_size=20, n_iters=100)\n",
        "bad_V = train_BNN(X_train, Y_train, mlp, W_dim, particle_size=20, n_iters=1)\n",
        "\n",
        "# compare good model and bad model\n",
        "rmse, ll = test_BNN(X_test, Y_test, good_V, mlp)\n",
        "print(\"Good model\\tRMSE: %.3f\\tLL: %.3f\"%(rmse, ll))\n",
        "rmse, ll = test_BNN(X_test, Y_test, bad_V, mlp)\n",
        "print(\"Bad model\\tRMSE: %.3f\\tLL: %.3f\"%(rmse, ll))"
      ],
      "execution_count": 190,
      "outputs": [
        {
          "output_type": "stream",
          "text": [
            "Good model\tRMSE: 1.749\tLL: -1.542\n",
            "Bad model\tRMSE: 5.484\tLL: -13.393\n"
          ],
          "name": "stdout"
        }
      ]
    },
    {
      "cell_type": "markdown",
      "metadata": {
        "id": "s2CMPpvCw6Q6",
        "colab_type": "text"
      },
      "source": [
        "### Naval Dataset"
      ]
    },
    {
      "cell_type": "code",
      "metadata": {
        "id": "C6H1zrGrGn5F",
        "colab_type": "code",
        "colab": {
          "base_uri": "https://localhost:8080/",
          "height": 340
        },
        "outputId": "3f08affb-84bb-41f5-ac5c-a71fff69bdac"
      },
      "source": [
        "# dowload Naval dataset\n",
        "!wget http://archive.ics.uci.edu/ml/machine-learning-databases/00316/UCI%20CBM%20Dataset.zip -O ./naval.zip\n",
        "!unzip -o naval.zip"
      ],
      "execution_count": 184,
      "outputs": [
        {
          "output_type": "stream",
          "text": [
            "--2019-07-26 08:48:12--  http://archive.ics.uci.edu/ml/machine-learning-databases/00316/UCI%20CBM%20Dataset.zip\n",
            "Resolving archive.ics.uci.edu (archive.ics.uci.edu)... 128.195.10.252\n",
            "Connecting to archive.ics.uci.edu (archive.ics.uci.edu)|128.195.10.252|:80... connected.\n",
            "HTTP request sent, awaiting response... 200 OK\n",
            "Length: 567071 (554K) [application/x-httpd-php]\n",
            "Saving to: ‘./naval.zip’\n",
            "\n",
            "\r./naval.zip           0%[                    ]       0  --.-KB/s               \r./naval.zip          57%[==========>         ] 320.13K  1.35MB/s               \r./naval.zip         100%[===================>] 553.78K  2.32MB/s    in 0.2s    \n",
            "\n",
            "2019-07-26 08:48:12 (2.32 MB/s) - ‘./naval.zip’ saved [567071/567071]\n",
            "\n",
            "Archive:  naval.zip\n",
            "  inflating: UCI CBM Dataset/.DS_Store  \n",
            "  inflating: __MACOSX/UCI CBM Dataset/._.DS_Store  \n",
            "  inflating: UCI CBM Dataset/data.txt  \n",
            "  inflating: UCI CBM Dataset/Features.txt  \n",
            "  inflating: __MACOSX/UCI CBM Dataset/._Features.txt  \n",
            "  inflating: UCI CBM Dataset/README.txt  \n",
            "  inflating: __MACOSX/UCI CBM Dataset/._README.txt  \n"
          ],
          "name": "stdout"
        }
      ]
    },
    {
      "cell_type": "code",
      "metadata": {
        "id": "rF2bakZy38ii",
        "colab_type": "code",
        "colab": {
          "base_uri": "https://localhost:8080/",
          "height": 51
        },
        "outputId": "de26d1b8-62c4-49d1-fc59-eb9dfbc80b15"
      },
      "source": [
        "# read data from file\n",
        "with open('UCI CBM Dataset/data.txt') as datafile:\n",
        "  data = []\n",
        "  for line in datafile:\n",
        "    row = [float(tok) for tok in line.strip().split()]\n",
        "    data.append(row)\n",
        "  random.shuffle(data)\n",
        "  data = torch.Tensor(data)\n",
        "\n",
        "# normalize data\n",
        "mean = torch.mean(data, dim=0)\n",
        "scale = torch.std(data, dim=0)\n",
        "data = (data - mean)/(scale+0.001)\n",
        "\n",
        "# split data\n",
        "X = data[:, :16]\n",
        "Y = data[:, 16].view(-1, 1)\n",
        "X_train, Y_train, X_test, Y_test = split_data(X, Y)\n",
        "print(X_train.size())\n",
        "print(X_test.size())"
      ],
      "execution_count": 185,
      "outputs": [
        {
          "output_type": "stream",
          "text": [
            "torch.Size([9548, 16])\n",
            "torch.Size([2386, 16])\n"
          ],
          "name": "stdout"
        }
      ]
    },
    {
      "cell_type": "code",
      "metadata": {
        "id": "xAcJJ5DbE64r",
        "colab_type": "code",
        "colab": {
          "base_uri": "https://localhost:8080/",
          "height": 187
        },
        "outputId": "3e5afadc-6c43-48c6-a247-3d2d15d7255f"
      },
      "source": [
        "# build & train BNN\n",
        "X_dim = X_train.size(1)\n",
        "mlp, W_dim = make_mlp(X_dim, hidden_units=20)\n",
        "V = None\n",
        "for _ in range(10):\n",
        "  V = train_BNN(X_train, Y_train, mlp, W_dim, particle_size=10, n_iters=300, lr=0.1, init_scale=0.1, V_given=V)\n",
        "  rmse, ll = test_BNN(X_test, Y_test, V, mlp)\n",
        "  print(\"RMSE: %.3f\\tLL: %.3f\"%(rmse, ll))"
      ],
      "execution_count": 186,
      "outputs": [
        {
          "output_type": "stream",
          "text": [
            "RMSE: 1.221\tLL: -1.174\n",
            "RMSE: 1.038\tLL: -1.068\n",
            "RMSE: 0.877\tLL: -0.964\n",
            "RMSE: 0.792\tLL: -0.908\n",
            "RMSE: 0.719\tLL: -0.858\n",
            "RMSE: 0.650\tLL: -0.798\n",
            "RMSE: 0.599\tLL: -0.750\n",
            "RMSE: 0.603\tLL: -0.748\n",
            "RMSE: 0.535\tLL: -0.671\n",
            "RMSE: 0.479\tLL: -0.607\n"
          ],
          "name": "stdout"
        }
      ]
    },
    {
      "cell_type": "code",
      "metadata": {
        "id": "sQoeQf8LBjEO",
        "colab_type": "code",
        "colab": {
          "base_uri": "https://localhost:8080/",
          "height": 153
        },
        "outputId": "db7bf04d-07b5-4868-98df-20bebdab276d"
      },
      "source": [
        "# compare different particle sizes\n",
        "X_dim = X_train.size(1)\n",
        "mlp, W_dim = make_mlp(X_dim, hidden_units=2)\n",
        "particle_sizes = [1, 10, 30, 100]\n",
        "Vs = []\n",
        "for particle_size in particle_sizes:\n",
        "  print(\"particle size: %d\"%(particle_size))\n",
        "  V = train_BNN(X_train, Y_train, mlp, W_dim, particle_size=particle_size, n_iters=300, lr=0.1)\n",
        "  rmse, ll = test_BNN(X_test, Y_test, V, mlp)\n",
        "  print(\"RMSE: %.3f\\tLL: %.3f\"%(rmse, ll))"
      ],
      "execution_count": 187,
      "outputs": [
        {
          "output_type": "stream",
          "text": [
            "particle size: 1\n",
            "RMSE: 0.912\tLL: -1.028\n",
            "particle size: 10\n",
            "RMSE: 1.114\tLL: -1.132\n",
            "particle size: 30\n",
            "RMSE: 1.060\tLL: -1.102\n",
            "particle size: 100\n",
            "RMSE: 1.116\tLL: -1.129\n"
          ],
          "name": "stdout"
        }
      ]
    }
  ]
}