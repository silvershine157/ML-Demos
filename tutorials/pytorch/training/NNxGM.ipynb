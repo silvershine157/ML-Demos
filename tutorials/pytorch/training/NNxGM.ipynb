{
  "nbformat": 4,
  "nbformat_minor": 0,
  "metadata": {
    "colab": {
      "name": "NNxGM.ipynb",
      "version": "0.3.2",
      "provenance": [],
      "collapsed_sections": [],
      "include_colab_link": true
    },
    "kernelspec": {
      "name": "python3",
      "display_name": "Python 3"
    }
  },
  "cells": [
    {
      "cell_type": "markdown",
      "metadata": {
        "id": "view-in-github",
        "colab_type": "text"
      },
      "source": [
        "<a href=\"https://colab.research.google.com/github/silvershine157/ML_Practice/blob/master/NNxGM.ipynb\" target=\"_parent\"><img src=\"https://colab.research.google.com/assets/colab-badge.svg\" alt=\"Open In Colab\"/></a>"
      ]
    },
    {
      "cell_type": "code",
      "metadata": {
        "id": "4ToT5yqtNZxb",
        "colab_type": "code",
        "colab": {}
      },
      "source": [
        "import numpy as np\n",
        "import torch\n",
        "import matplotlib.pyplot as plt"
      ],
      "execution_count": 0,
      "outputs": []
    },
    {
      "cell_type": "markdown",
      "metadata": {
        "id": "3W_RkYJUeVut",
        "colab_type": "text"
      },
      "source": [
        "### Spiral cluster data"
      ]
    },
    {
      "cell_type": "code",
      "metadata": {
        "id": "4wWeWLS3eXdB",
        "colab_type": "code",
        "outputId": "71af9578-8d15-4ee5-82ee-55c6c0260847",
        "colab": {
          "base_uri": "https://localhost:8080/",
          "height": 269
        }
      },
      "source": [
        "def rotation_matrix_2d(theta):\n",
        "  R = np.array([\n",
        "      [np.cos(theta), -np.sin(theta)],\n",
        "      [np.sin(theta), np.cos(theta)]\n",
        "  ])\n",
        "  return R\n",
        "\n",
        "def generate_spiral_cluster_data(N, spiralness=0.7):\n",
        "  data = np.zeros((N, 2))\n",
        "  for n in range(N):\n",
        "    z = np.random.randint(0, 5) # 0~4\n",
        "    g = np.random.multivariate_normal([1.0, 0.0], [[0.08, 0.0], [0.0, 0.005]])\n",
        "    theta = z*np.pi*2/5 + spiralness*np.linalg.norm(g)\n",
        "    y = np.matmul(rotation_matrix_2d(theta), g)\n",
        "    data[n, :] = y\n",
        "  return data\n",
        "\n",
        "N = 500 # number of data points\n",
        "data = generate_spiral_cluster_data(N, spiralness=0.5)\n",
        "plt.scatter(data[:, 0], data[:, 1])\n",
        "plt.show()"
      ],
      "execution_count": 8,
      "outputs": [
        {
          "output_type": "display_data",
          "data": {
            "image/png": "[encoded data removed]",
            "text/plain": [
              "<Figure size 432x288 with 1 Axes>"
            ]
          },
          "metadata": {
            "tags": []
          }
        }
      ]
    },
    {
      "cell_type": "markdown",
      "metadata": {
        "id": "QnztY94o8uVi",
        "colab_type": "text"
      },
      "source": [
        "## Preliminary: Inference in graphical models with conjugacy structure\n",
        "\n",
        "**model**\n",
        "\n",
        "observation: $y$\n",
        "\n",
        "latent state: $x$\n",
        "\n",
        "model parameter: $\\theta$\n",
        "\n",
        "observation model: $p(y | x, \\theta)$\n",
        "\n",
        "latent variable model: $p(x | \\theta)$\n",
        "\n",
        "parameter prior: $p(\\theta)$\n",
        "\n",
        "**variational inference**\n",
        "\n",
        "mean field family: $q(\\theta)q(x)$ (to approximate $p(\\theta, x | y)$)\n",
        "\n",
        "VI objective: $\\mathcal{L}[q(\\theta) q(x)] = \\mathbb{E}_{q(\\theta) q(x)}[log{\\frac{p(\\theta)p(x|\\theta)p(y|x,\\theta)}{q(\\theta)q(x)}}]$\n",
        "\n",
        "if $p(y | x, \\theta)$ is conjugate to $p(x | \\theta)$, then for fixed $q(\\theta)$, the optimal factor $q^*(x) = argmax_{q(x)}{\\mathcal{L}[q(\\theta) q(x)]}$ is in the same family where the parameters are simple functions of $y$ and expectation statistics of $q(\\theta)$\n",
        "\n",
        "\n",
        "\n"
      ]
    },
    {
      "cell_type": "markdown",
      "metadata": {
        "id": "SNLMrWVsETm9",
        "colab_type": "text"
      },
      "source": [
        "### Example: Gaussian mixture"
      ]
    },
    {
      "cell_type": "markdown",
      "metadata": {
        "id": "kNEzOltQFRK-",
        "colab_type": "text"
      },
      "source": [
        "**notations**\n",
        "\n",
        "observation: $y$\n",
        "\n",
        "latent state (discrete): $z$\n",
        "\n",
        "model parameters: $\\mu_1, ..., \\mu_K, \\Sigma_1, ..., \\Sigma_K, \\pi$\n",
        "\n",
        "data index: $n$\n",
        "\n",
        "cluster index: $k$\n",
        "\n",
        "**observation model**\n",
        "\n",
        "$p(y | z, \\mu_1, ..., \\mu_K, \\Sigma_1, ..., \\Sigma_K)\n",
        "\\\\= \\Pi_n \\mathcal{N}(y_n ; \\mu_{z_n}, \\Sigma_{z_n})$\n",
        "\n",
        "**latent variable model**\n",
        "\n",
        "$p(z | \\pi) = \\Pi_n \\pi[z_n]$\n",
        "\n",
        "**prior**\n",
        "\n",
        "$p(\\pi) = Dir(\\pi; \\alpha)$\n",
        "\n",
        "$p(\\mu_1, ..., \\mu_K, \\Sigma_1, ..., \\Sigma_K) = \\Pi_k NIW(\\mu_k, \\Sigma_k, \\lambda)$\n",
        "\n"
      ]
    },
    {
      "cell_type": "code",
      "metadata": {
        "id": "t9sScdyvLwcG",
        "colab_type": "code",
        "colab": {}
      },
      "source": [
        ""
      ],
      "execution_count": 0,
      "outputs": []
    },
    {
      "cell_type": "markdown",
      "metadata": {
        "id": "979xDfvCLwsm",
        "colab_type": "text"
      },
      "source": [
        ""
      ]
    },
    {
      "cell_type": "markdown",
      "metadata": {
        "id": "mNuEuwiRLGNc",
        "colab_type": "text"
      },
      "source": [
        "## SVAE"
      ]
    },
    {
      "cell_type": "markdown",
      "metadata": {
        "id": "tmNMm5JLtIZt",
        "colab_type": "text"
      },
      "source": [
        "### Neural observation model\n",
        "\n",
        "**Prior**\n",
        "\n",
        "$\\pi \\sim Dir(\\alpha)$\n",
        "\n",
        "$(\\mu_k, \\Sigma_k) \\sim NIW(\\lambda)$\n",
        "\n",
        "$\\gamma \\sim p(\\gamma)$\n",
        "\n",
        "**Likelihood**\n",
        "\n",
        "$z_n | \\pi \\sim^{iid} \\pi$\n",
        "\n",
        "$x_n \\sim^{iid} \\mathcal{N}(\\mu^{(z_n)}, \\Sigma^{(z_n)})$\n",
        "\n",
        "$y_n | x_n, \\gamma \\sim^{iid} \\mathcal{N}(\\mu(x_n; \\gamma), \\Sigma(x_n; \\gamma))$"
      ]
    }
  ]
}