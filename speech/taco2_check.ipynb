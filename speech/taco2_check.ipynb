{
 "cells": [
  {
   "cell_type": "code",
   "execution_count": null,
   "metadata": {},
   "outputs": [],
   "source": [
    "import torch\n",
    "import torchaudio\n",
    "import matplotlib.pyplot as plt\n",
    "from train import *\n",
    "from dataset import *\n",
    "from const import *\n",
    "from tacotron_model import Tacotron2"
   ]
  },
  {
   "cell_type": "code",
   "execution_count": null,
   "metadata": {},
   "outputs": [],
   "source": [
    "def get_output():\n",
    "    loader = get_lj_loader(batch_size=4, limit=4)\n",
    "    net = Tacotron2()\n",
    "    net.to(device)\n",
    "    net.load_state_dict(torch.load('data/ckpts/dotattn_latest.sd', map_location=torch.device('cpu')))\n",
    "    net.eval()\n",
    "    with torch.no_grad():\n",
    "        for batch in loader:\n",
    "            S_pad, S_lengths, token_pad, token_lengths = batch\n",
    "            S_pad = S_pad.to(device)\n",
    "            token_pad = token_pad.to(device)\n",
    "            S_true = S_pad.cpu()\n",
    "            S_before, S_after, stop_logits, attn_weights = net(token_pad, token_lengths, S_pad, teacher_forcing=True)\n",
    "            tf_res = (S_before, S_after, stop_logits, attn_weights, S_true, S_lengths)\n",
    "            S_before, S_after, stop_logits, attn_weights = net(token_pad, token_lengths, S_pad, teacher_forcing=False)\n",
    "            infer_res = (S_before, S_after, stop_logits, attn_weights, S_true, S_lengths)\n",
    "            break\n",
    "    return tf_res, infer_res"
   ]
  },
  {
   "cell_type": "code",
   "execution_count": null,
   "metadata": {},
   "outputs": [],
   "source": [
    "def check_output(res, check_idx=0):\n",
    "    S_before, S_after, stop_logits, attn_weights, S_true, S_lengths = res\n",
    "    S_len = S_lengths[check_idx].item()\n",
    "    print('Target spectrogram')\n",
    "    plt.imshow(S_true[:S_len, check_idx, :])\n",
    "    plt.show()\n",
    "    print('Output spectrogram')\n",
    "    plt.imshow(S_after[:S_len, check_idx, :])\n",
    "    plt.show()\n",
    "    print('Stopper logits')\n",
    "    #plt.plot(1.0/(1.0+torch.exp(-stop_logits[:, check_idx])))\n",
    "    plt.plot(stop_logits[:, check_idx])\n",
    "    plt.axvline(x=S_len, color='y')\n",
    "    plt.axhline(y=0.0, color='y')\n",
    "    print('two frames left: {:g}'.format(stop_logits[S_len-3, check_idx].item()))\n",
    "    print('one frame left: {:g}'.format(stop_logits[S_len-2, check_idx].item()))\n",
    "    print('should stop here: {:g}'.format(stop_logits[S_len-1, check_idx].item()))\n",
    "    print('after zero frame: {:g}'.format(stop_logits[S_len, check_idx].item()))\n",
    "    plt.show()\n",
    "    print('Attn weights')\n",
    "    plt.imshow(attn_weights[:S_len, :, check_idx])\n",
    "    plt.show()"
   ]
  },
  {
   "cell_type": "code",
   "execution_count": null,
   "metadata": {},
   "outputs": [],
   "source": [
    "tf_res, infer_res = get_output()"
   ]
  },
  {
   "cell_type": "code",
   "execution_count": null,
   "metadata": {},
   "outputs": [],
   "source": [
    "check_output(tf_res, check_idx=0)"
   ]
  },
  {
   "cell_type": "code",
   "execution_count": null,
   "metadata": {},
   "outputs": [],
   "source": [
    "check_output(infer_res, check_idx=0)"
   ]
  }
 ],
 "metadata": {
  "kernelspec": {
   "display_name": "torch",
   "language": "python",
   "name": "torch"
  },
  "language_info": {
   "codemirror_mode": {
    "name": "ipython",
    "version": 3
   },
   "file_extension": ".py",
   "mimetype": "text/x-python",
   "name": "python",
   "nbconvert_exporter": "python",
   "pygments_lexer": "ipython3",
   "version": "3.7.6"
  }
 },
 "nbformat": 4,
 "nbformat_minor": 2
}
